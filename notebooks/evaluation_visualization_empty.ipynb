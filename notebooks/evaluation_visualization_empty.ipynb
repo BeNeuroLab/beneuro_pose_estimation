{
 "cells": [
  {
   "cell_type": "markdown",
   "metadata": {},
   "source": [
    "Pose Estimation Evaluation "
   ]
  },
  {
   "cell_type": "markdown",
   "metadata": {},
   "source": [
    "- SLEAP model evaluation\n",
    "- 2D predictions confidence scores \n",
    "- Reprojection errors\n",
    "- Missing predictions\n",
    "- Joint angle statistics and distributions\n",
    "- 3D animation of the pose"
   ]
  },
  {
   "cell_type": "markdown",
   "metadata": {},
   "source": [
    "## Imports"
   ]
  },
  {
   "cell_type": "code",
   "execution_count": null,
   "metadata": {},
   "outputs": [],
   "source": [
    "%load_ext autoreload\n",
    "%autoreload 2\n",
    "import json\n",
    "import numpy as np\n",
    "import pandas as pd\n",
    "import matplotlib.pyplot as plt\n",
    "import seaborn as sns\n",
    "from pathlib import Path\n",
    "from beneuro_pose_estimation import params\n",
    "import beneuro_pose_estimation.evaluation as eval\n",
    "from beneuro_pose_estimation.config import _load_config\n",
    "\n",
    "config = _load_config()\n",
    "# Set plot style\n",
    "plt.style.use('seaborn')\n",
    "sns.set_palette('husl')"
   ]
  },
  {
   "cell_type": "markdown",
   "metadata": {},
   "source": [
    "## Configuration - Set session name"
   ]
  },
  {
   "cell_type": "code",
   "execution_count": null,
   "metadata": {},
   "outputs": [],
   "source": [
    "SESSION_NAME = \"M062_2025_03_21_14_00\"  # Change this to your session name\n",
    "TEST_NAME = \"test_1\"  \n",
    "# TEST_NAME = None # None for full session evaluation"
   ]
  },
  {
   "cell_type": "code",
   "execution_count": null,
   "metadata": {},
   "outputs": [],
   "source": [
    "# ===================Setup paths=======================\n",
    "\n",
    "animal = SESSION_NAME.split(\"_\")[0]\n",
    "if TEST_NAME is not None:\n",
    "    test_dir = config.predictions3D / animal / SESSION_NAME / f\"{SESSION_NAME }_pose_estimation\"/ \"tests\" / TEST_NAME \n",
    "else:\n",
    "    test_dir = config.predictions3D / animal / SESSION_NAME / f\"{SESSION_NAME }_pose_estimation\"\n",
    "csv_path = test_dir / f\"{SESSION_NAME}_3dpts_angles.csv\""
   ]
  },
  {
   "cell_type": "markdown",
   "metadata": {},
   "source": [
    "## Results Summary - 3D Animation, angles, missing frames"
   ]
  },
  {
   "cell_type": "code",
   "execution_count": null,
   "metadata": {},
   "outputs": [],
   "source": [
    "# ================Frame selection=====================\n",
    "# If evaluation is run on the full seession and frame range is not specified, it will be enforced to 0 - 100\n",
    "\n",
    "output_dir = test_dir # None to not save the animation\n",
    "start_frame = None\n",
    "end_frame = None\n",
    "\n",
    "\n",
    "if start_frame is None or end_frame is None and test_dir is None:\n",
    "    start_frame = 0\n",
    "    end_frame = 100\n"
   ]
  },
  {
   "cell_type": "markdown",
   "metadata": {},
   "source": [
    "#### 3D Animation"
   ]
  },
  {
   "cell_type": "code",
   "execution_count": null,
   "metadata": {},
   "outputs": [],
   "source": [
    "anim = eval.create_3d_animation_from_csv(\n",
    "    csv_filepath=str(csv_path),\n",
    "    output_dir=str(test_dir),\n",
    "    start_frame=start_frame ,  \n",
    "    end_frame= end_frame,    \n",
    "    fps=30,\n",
    "    rotation_angle=180.0, rotation_axis=\"z\"\n",
    "\n",
    ")\n",
    "\n",
    "# Display the animation\n",
    "from IPython.display import HTML\n",
    "HTML(anim.to_jshtml())"
   ]
  },
  {
   "cell_type": "markdown",
   "metadata": {},
   "source": [
    "#### Joint Angles"
   ]
  },
  {
   "cell_type": "code",
   "execution_count": null,
   "metadata": {},
   "outputs": [],
   "source": [
    "fields = [\n",
    "    \"right_knee_angle\",\n",
    "    \"left_knee_angle\", \n",
    "    \"right_elbow_angle\", \n",
    "    \"left_elbow_angle\"\n",
    "    ] \n",
    "# fields =  None #for all angles\n",
    "eval.plot_angles(csv_path, fields = fields, frame_start=start_frame, frame_end=end_frame)"
   ]
  },
  {
   "cell_type": "markdown",
   "metadata": {},
   "source": [
    "#### Missing Frames "
   ]
  },
  {
   "cell_type": "code",
   "execution_count": null,
   "metadata": {},
   "outputs": [],
   "source": [
    "missing_frames = eval.compute_keypoint_missing_frame_stats(csv_path)"
   ]
  },
  {
   "cell_type": "markdown",
   "metadata": {},
   "source": [
    "## 2D Predictions Evaluation"
   ]
  },
  {
   "cell_type": "markdown",
   "metadata": {},
   "source": [
    "### Model information - independent of test session"
   ]
  },
  {
   "cell_type": "code",
   "execution_count": null,
   "metadata": {},
   "outputs": [],
   "source": [
    "# Choose the camera for evaluation\n",
    "camera_name = \"Camera_Front_Left\"\n"
   ]
  },
  {
   "cell_type": "code",
   "execution_count": null,
   "metadata": {},
   "outputs": [],
   "source": [
    "#  ===================Setup paths=======================\n",
    "predictions2D_path = test_dir / camera_name / f\"{SESSION_NAME}_{camera_name}.slp.predictions.slp\"\n",
    "# predictions2D_path = test_dir / f\"{SESSION_NAME}_{camera_name}.slp.predictions.slp\"\n",
    "model_config_path = eval.get_model_path_from_slp(predictions2D_path)\n",
    "model_dir = model_config_path.parent"
   ]
  },
  {
   "cell_type": "markdown",
   "metadata": {},
   "source": [
    "#### Training Details"
   ]
  },
  {
   "cell_type": "code",
   "execution_count": null,
   "metadata": {},
   "outputs": [],
   "source": [
    "\n",
    "eval.summarize_model_config(model_config_path)"
   ]
  },
  {
   "cell_type": "markdown",
   "metadata": {},
   "source": [
    "#### Training Evaluation\n",
    "\n"
   ]
  },
  {
   "cell_type": "markdown",
   "metadata": {},
   "source": [
    "Definitions\n",
    "Distance Metrics\n",
    "- **Localization error**  \n",
    "  - Pixel distance between each predicted keypoint and its ground truth  \n",
    "  - Lower values are better (0 px = perfect)\n",
    "\n",
    "- **Object Keypoint Similarity (OKS)**  \n",
    "  - Score in [0, 1], higher is better  \n",
    "  - Converts per-keypoint distances into a normalized similarity w.r.t. object scale  \n",
    "  - Object scale comes from the annotation bounding box (verify your boxes include occluded points)\n",
    "\n",
    "Visualisation Metrics\n",
    "- **Precision & Recall**  \n",
    "  - **Precision**: fraction of predicted keypoints that are correct  \n",
    "    (high precision ⇒ few false positives)  \n",
    "  - **Recall**: fraction of true keypoints that are detected  \n",
    "    (high recall ⇒ few false negatives)  \n",
    "  - We want precision to stay high even as recall increases\n",
    "\n",
    "---\n",
    "\n",
    "- **mAP (mean Average Precision)**  \n",
    "  - ∈ [0, 1], higher is better  \n",
    "  - Area under the precision–recall curve, then averaged across OKS thresholds\n",
    "\n",
    "- **mAR (mean Average Recall)**  \n",
    "  - ∈ [0, 1], higher is better  \n",
    "  - Average recall value across all OKS thresholds\n"
   ]
  },
  {
   "cell_type": "code",
   "execution_count": null,
   "metadata": {},
   "outputs": [],
   "source": [
    "eval.plot_model_metrics(model_dir, split = \"val\", definitions = False)"
   ]
  },
  {
   "cell_type": "markdown",
   "metadata": {},
   "source": [
    "### 2D Prediction Scores on test session"
   ]
  },
  {
   "cell_type": "markdown",
   "metadata": {},
   "source": [
    "#### Confidence Scores "
   ]
  },
  {
   "cell_type": "code",
   "execution_count": null,
   "metadata": {},
   "outputs": [],
   "source": [
    "eval.visualize_confidence_scores(SESSION_NAME, test_dir)"
   ]
  },
  {
   "cell_type": "markdown",
   "metadata": {},
   "source": [
    "## Triangulation Evaluation"
   ]
  },
  {
   "cell_type": "markdown",
   "metadata": {},
   "source": [
    "#### Triangulation parameters - right now, just displaying the CURRENT values in params.py"
   ]
  },
  {
   "cell_type": "markdown",
   "metadata": {},
   "source": [
    "**Definitions**\n",
    "\n",
    "- **scale_smooth**  \n",
    "  The weight of the temporal smoothing term in the loss function (default: 4).\n",
    "\n",
    "  GPT: Number of frames over which to apply a smoothing filter to the object-scale estimates. A larger value yields a smoother, more stable scale over time at the cost of temporal lag.\n",
    "\n",
    "- **scale_length**  \n",
    "  The weight of the length constraints in the loss function (default: 2).\n",
    "\n",
    "  GPT: Window size (in frames) used to compute a robust “typical” limb length from high-confidence observations. Helps enforce consistent bone lengths when data are strong.\n",
    "\n",
    "- **scale_length_weak**  \n",
    "  The weight of the weak length constraints in the loss function (default: 0.5).\n",
    "\n",
    "  GPT: Same as `scale_length`, but applied under “weak” triangulation (fewer cameras/keypoints). Usually smaller to avoid over-smoothing scarce data.\n",
    "\n",
    "- **reproj_error_threshold**  \n",
    "  A threshold for determining which points are not suitable for triangulation (default: 15).\n",
    "\n",
    "- **reproj_loss**  \n",
    "  The loss function for the reprojection loss (default: `soft_l1`).  \n",
    "  See `scipy.optimize.least_squares` for additional options.\n",
    "\n",
    "  - `l2` — squared Euclidean distance (sensitive to outliers)  \n",
    "  - `l1` — absolute distance (more robust to outliers)\n",
    "\n",
    "- **n_deriv_smooth**  \n",
    "  The order of derivative to smooth in the temporal filtering (default: 1).\n",
    "\n",
    "  GPT: Order of finite-difference smoothing applied to the 3D trajectories (e.g. `2` = second derivative / acceleration). Higher values remove more jitter but can over-smooth rapid movements.\n",
    "        \n",
    "- **ransac**  \n",
    "Whether to perform RANSAC triangulation (outlier view rejection based on reprojection error):  \n",
    "  - `true`  — randomly sample projections to find a consensus inlier set  \n",
    "  - `false` — use all available views (faster but less robust to bad detections)"
   ]
  },
  {
   "cell_type": "markdown",
   "metadata": {},
   "source": [
    "| Parameter                 | Default / Typical | Notes                                             |\n",
    "|---------------------------|-------------------|---------------------------------------------------|\n",
    "| **scale_smooth**          | 5                 | Smoother scale vs. responsiveness                 |\n",
    "| **scale_length**          | 4–8               | Window over which to estimate bone lengths        |\n",
    "| **scale_length_weak**     | 1–4               | Shorter window when views are scarce              |\n",
    "| **reproj_error_threshold**| 5–15              | Pixel-error scale for loss robustification        |\n",
    "| **reproj_loss**           | `soft_l1`         | Balances sensitivity (L2) vs. outlier tolerance   |\n",
    "| **n_deriv_smooth**        | 1–2               | Smooth velocity or acceleration                   |\n",
    "| **ransac**                | `False` or `True` | Use RANSAC if you have gross outliers             |\n"
   ]
  },
  {
   "cell_type": "code",
   "execution_count": null,
   "metadata": {},
   "outputs": [],
   "source": [
    "params.triangulation_params"
   ]
  },
  {
   "cell_type": "markdown",
   "metadata": {},
   "source": [
    "#### Reprojection Error Analysis"
   ]
  },
  {
   "cell_type": "code",
   "execution_count": null,
   "metadata": {},
   "outputs": [],
   "source": [
    "errors = eval.get_reprojection_errors(SESSION_NAME, test_dir, print_stats = True)"
   ]
  },
  {
   "cell_type": "code",
   "execution_count": null,
   "metadata": {},
   "outputs": [],
   "source": [
    "eval.plot_reprojection_errors(SESSION_NAME, test_dir)"
   ]
  },
  {
   "cell_type": "code",
   "execution_count": null,
   "metadata": {},
   "outputs": [],
   "source": [
    "fig_cam, fig_kp = eval.plot_reprojection_error_histograms(SESSION_NAME, test_dir)"
   ]
  },
  {
   "cell_type": "code",
   "execution_count": null,
   "metadata": {},
   "outputs": [],
   "source": [
    "eval.plot_reprojection_error_per_camera(SESSION_NAME, test_dir)"
   ]
  },
  {
   "cell_type": "code",
   "execution_count": null,
   "metadata": {},
   "outputs": [],
   "source": [
    "fig = eval.plot_reprojection_error_per_keypoint(SESSION_NAME, test_dir)"
   ]
  },
  {
   "cell_type": "markdown",
   "metadata": {},
   "source": [
    "## Joint Angles Analysis"
   ]
  },
  {
   "cell_type": "code",
   "execution_count": null,
   "metadata": {},
   "outputs": [],
   "source": [
    "start_frame = 400\n",
    "end_frame = 500\n",
    "\n",
    "if start_frame is None or end_frame is None and test_dir is None:\n",
    "    # If full session is tested frame range not specified, enforce range\n",
    "    start_frame = 0\n",
    "    end_frame = 100"
   ]
  },
  {
   "cell_type": "code",
   "execution_count": null,
   "metadata": {},
   "outputs": [],
   "source": [
    "# fields = [\"right_knee_angle\",\"left_knee_angle\", \"right_elbow_angle\", \"left_elbow_angle\"] \n",
    "fields =  None #for all angles\n",
    "eval.plot_angles(csv_path, fields = fields, frame_start=start_frame, frame_end=end_frame)"
   ]
  },
  {
   "cell_type": "code",
   "execution_count": null,
   "metadata": {},
   "outputs": [],
   "source": [
    "eval.print_angle_stats(csv_path, frame_start=start_frame, frame_end=end_frame)"
   ]
  },
  {
   "cell_type": "code",
   "execution_count": null,
   "metadata": {},
   "outputs": [],
   "source": [
    "eval.plot_angle_histograms(csv_path, frame_start=start_frame, frame_end=end_frame)"
   ]
  },
  {
   "cell_type": "code",
   "execution_count": null,
   "metadata": {},
   "outputs": [],
   "source": [
    "eval.print_angle_stats_table(csv_path, frame_start=start_frame, frame_end=end_frame)"
   ]
  },
  {
   "cell_type": "code",
   "execution_count": null,
   "metadata": {},
   "outputs": [],
   "source": [
    "eval.plot_angle_velocity_histograms(csv_path, frame_start=start_frame, frame_end=end_frame)"
   ]
  },
  {
   "cell_type": "code",
   "execution_count": null,
   "metadata": {},
   "outputs": [],
   "source": [
    "eval.plot_angle_acceleration_histograms(csv_path, frame_start=start_frame, frame_end=end_frame)"
   ]
  },
  {
   "cell_type": "code",
   "execution_count": null,
   "metadata": {},
   "outputs": [],
   "source": [
    "eval.plot_bodypart_autocorr_spectrum(\n",
    "    csv_path,\n",
    "    frame_start=start_frame,\n",
    "    frame_end=end_frame,\n",
    "    max_lag=60,\n",
    ")"
   ]
  },
  {
   "cell_type": "markdown",
   "metadata": {},
   "source": []
  }
 ],
 "metadata": {
  "kernelspec": {
   "display_name": "bnp",
   "language": "python",
   "name": "python3"
  },
  "language_info": {
   "codemirror_mode": {
    "name": "ipython",
    "version": 3
   },
   "file_extension": ".py",
   "mimetype": "text/x-python",
   "name": "python",
   "nbconvert_exporter": "python",
   "pygments_lexer": "ipython3",
   "version": "3.7.12"
  }
 },
 "nbformat": 4,
 "nbformat_minor": 2
}
