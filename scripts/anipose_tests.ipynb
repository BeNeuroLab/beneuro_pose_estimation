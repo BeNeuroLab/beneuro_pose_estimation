{
 "cells": [
  {
   "cell_type": "code",
   "execution_count": 1,
   "metadata": {},
   "outputs": [
    {
     "name": "stdout",
     "output_type": "stream",
     "text": [
      "INFO:numexpr.utils:Note: NumExpr detected 24 cores but \"NUMEXPR_MAX_THREADS\" not set, so enforcing safe limit of 8.\n",
      "INFO:numexpr.utils:NumExpr defaulting to 8 threads.\n"
     ]
    }
   ],
   "source": [
    "import sys\n",
    "import os\n",
    "\n",
    "\n",
    "# Add the parent directory of 'scripts' to sys.path\n",
    "parent_dir = os.path.abspath(os.path.join(os.getcwd(), os.pardir))\n",
    "sys.path.append(parent_dir)\n",
    "import beneuro_pose_estimation.anipose.aniposeTools as aniposeTools"
   ]
  },
  {
   "cell_type": "code",
   "execution_count": 2,
   "metadata": {},
   "outputs": [
    {
     "name": "stdout",
     "output_type": "stream",
     "text": [
      "INFO:root:3D predictions saved to CSV at /home/il620/beneuro_pose_estimation/projects/complete_projects/M045_2024_11_20_11_15/M045_2024_11_20_11_15_3d_predictions.csv\n"
     ]
    }
   ],
   "source": [
    "aniposeTools.save_to_csv(\"M045_2024_11_20_11_15\",\"/home/il620/beneuro_pose_estimation/projects/complete_projects/M045_2024_11_20_11_15/M045_2024_11_20_11_15_pose_estimation_combined.h5\",\"/home/il620/beneuro_pose_estimation/projects/complete_projects/M045_2024_11_20_11_15/M045_2024_11_20_11_15_3d_predictions.csv\")"
   ]
  },
  {
   "cell_type": "code",
   "execution_count": 3,
   "metadata": {},
   "outputs": [],
   "source": [
    "import h5py\n",
    "points3d = h5py.File(\"/home/il620/beneuro_pose_estimation/projects/complete_projects/M045_2024_11_20_11_15/M045_2024_11_20_11_15_pose_estimation_combined.h5\", 'r')['points3d'][:]"
   ]
  },
  {
   "cell_type": "code",
   "execution_count": 9,
   "metadata": {},
   "outputs": [],
   "source": [
    "file_path = \"/home/il620/beneuro_pose_estimation/projects/complete_projects/M045_2024_11_20_11_15/M045_2024_11_20_11_15_triangulation_0_1000.h5\""
   ]
  },
  {
   "cell_type": "code",
   "execution_count": 5,
   "metadata": {},
   "outputs": [
    {
     "data": {
      "text/plain": [
       "(30000, 1, 19, 3)"
      ]
     },
     "execution_count": 5,
     "metadata": {},
     "output_type": "execute_result"
    }
   ],
   "source": [
    "points3d.shape"
   ]
  },
  {
   "cell_type": "code",
   "execution_count": null,
   "metadata": {},
   "outputs": [
    {
     "name": "stdout",
     "output_type": "stream",
     "text": [
      "frames: <class 'h5py._hl.dataset.Dataset'>\n",
      "tracks: <class 'h5py._hl.dataset.Dataset'>\n"
     ]
    }
   ],
   "source": [
    "with h5py.File(file_path, 'r') as h5_file:\n",
    "    # Recursively list all groups and datasets\n",
    "    def print_structure(name, obj):\n",
    "        print(f\"{name}: {type(obj)}\")\n",
    "    h5_file.visititems(print_structure)"
   ]
  },
  {
   "cell_type": "code",
   "execution_count": 13,
   "metadata": {},
   "outputs": [
    {
     "name": "stdout",
     "output_type": "stream",
     "text": [
      "<HDF5 dataset \"tracks\": shape (1000, 1, 19, 3), type \"<f8\">\n"
     ]
    }
   ],
   "source": [
    "with h5py.File(file_path, 'r') as h5_file:\n",
    "    print(h5_file[\"tracks\"])"
   ]
  },
  {
   "cell_type": "code",
   "execution_count": 16,
   "metadata": {},
   "outputs": [
    {
     "name": "stdout",
     "output_type": "stream",
     "text": [
      "1000\n"
     ]
    }
   ],
   "source": [
    "with h5py.File(file_path, 'r') as h5_file:\n",
    "    print(h5_file[\"frames\"][1])"
   ]
  },
  {
   "cell_type": "code",
   "execution_count": 6,
   "metadata": {},
   "outputs": [
    {
     "data": {
      "text/plain": [
       "array([[[[[ 397.74867329,  147.75311613],\n",
       "          [ 527.32704281,  286.91513125],\n",
       "          [ 423.77053046,  456.64745747],\n",
       "          ...,\n",
       "          [ 503.06126364,  375.72079149],\n",
       "          [ 410.39835894,  413.70634969],\n",
       "          [ 212.58215671,  358.95124271]]],\n",
       "\n",
       "\n",
       "        [[[ 398.68185726,  148.16908685],\n",
       "          [ 532.26708284,  280.46628432],\n",
       "          [ 418.59956162,  466.18957258],\n",
       "          ...,\n",
       "          [ 514.12125845,  375.23826673],\n",
       "          [ 425.04200453,  430.11045143],\n",
       "          [ 213.04961782,  358.1500361 ]]],\n",
       "\n",
       "\n",
       "        [[[ 399.60409424,  148.5911343 ],\n",
       "          [ 536.35945998,  275.54044837],\n",
       "          [ 414.97402914,  473.97762831],\n",
       "          ...,\n",
       "          [ 521.90942526,  375.48781898],\n",
       "          [ 437.98428755,  441.07630998],\n",
       "          [ 213.65924463,  357.64116965]]],\n",
       "\n",
       "\n",
       "        ...,\n",
       "\n",
       "\n",
       "        [[[ 399.37672017,  148.65217145],\n",
       "          [ 536.29811565,  273.37218719],\n",
       "          [ 407.2600634 ,  480.89923094],\n",
       "          ...,\n",
       "          [ 522.77636308,  381.13415596],\n",
       "          [ 447.9915117 ,  447.68827598],\n",
       "          [ 220.31462966,  351.89801156]]],\n",
       "\n",
       "\n",
       "        [[[ 399.50018571,  148.74452189],\n",
       "          [ 536.09672036,  272.96449329],\n",
       "          [ 405.95613509,  480.83559186],\n",
       "          ...,\n",
       "          [ 521.83237173,  380.5273191 ],\n",
       "          [ 447.62935315,  447.99894116],\n",
       "          [ 223.51593042,  349.9189633 ]]],\n",
       "\n",
       "\n",
       "        [[[ 399.65439782,  148.85555121],\n",
       "          [ 536.2038109 ,  272.42576645],\n",
       "          [ 405.37299336,  480.78985854],\n",
       "          ...,\n",
       "          [ 520.98377732,  379.59489606],\n",
       "          [ 447.56457581,  448.01488367],\n",
       "          [ 224.05584483,  350.02643898]]]],\n",
       "\n",
       "\n",
       "\n",
       "       [[[[1030.77036868,   69.836434  ],\n",
       "          [ 959.54437317,  157.30837196],\n",
       "          [1014.50471798,  285.45438634],\n",
       "          ...,\n",
       "          [ 954.59440187,  227.17133113],\n",
       "          [1001.45905833,  270.3539977 ],\n",
       "          [1092.19265235,  295.18674234]]],\n",
       "\n",
       "\n",
       "        [[[1030.2706487 ,   70.07900677],\n",
       "          [ 958.07656351,  152.19719862],\n",
       "          [1027.87975963,  285.54763866],\n",
       "          ...,\n",
       "          [ 952.09097633,  223.98056345],\n",
       "          [1004.32144006,  273.0055737 ],\n",
       "          [1091.19527317,  294.88981013]]],\n",
       "\n",
       "\n",
       "        [[[1029.77584032,   70.32659519],\n",
       "          [ 956.80172531,  148.28911184],\n",
       "          [1038.33820943,  285.2298617 ],\n",
       "          ...,\n",
       "          [ 950.85286955,  221.99164389],\n",
       "          [1005.92234034,  273.26265451],\n",
       "          [1090.19531119,  294.72511942]]],\n",
       "\n",
       "\n",
       "        ...,\n",
       "\n",
       "\n",
       "        [[[1029.96414651,   70.38525997],\n",
       "          [ 957.74383457,  146.63072739],\n",
       "          [1053.98360365,  282.38331022],\n",
       "          ...,\n",
       "          [ 956.21089682,  223.36656435],\n",
       "          [1013.04018697,  268.63716329],\n",
       "          [1079.48952968,  292.36102523]]],\n",
       "\n",
       "\n",
       "        [[[1029.89398832,   70.44505114],\n",
       "          [ 958.23528755,  146.28932497],\n",
       "          [1054.78573101,  282.43676205],\n",
       "          ...,\n",
       "          [ 957.08412064,  222.9203616 ],\n",
       "          [1013.32140516,  268.83600518],\n",
       "          [1075.27378304,  291.07263966]]],\n",
       "\n",
       "\n",
       "        [[[1029.80633683,   70.51652494],\n",
       "          [ 958.55025309,  145.83548524],\n",
       "          [1055.10979538,  282.47544841],\n",
       "          ...,\n",
       "          [ 957.84275453,  222.2695742 ],\n",
       "          [1013.39515001,  268.83167985],\n",
       "          [1074.76448299,  291.1033115 ]]]],\n",
       "\n",
       "\n",
       "\n",
       "       [[[[ 867.93016565,   88.28709713],\n",
       "          [ 776.41456248,  177.67636936],\n",
       "          [ 842.64871164,  283.14131183],\n",
       "          ...,\n",
       "          [ 799.64916427,  234.40062956],\n",
       "          [ 867.73767954,  261.53868626],\n",
       "          [1086.02568084,  236.32014788]]],\n",
       "\n",
       "\n",
       "        [[[ 867.21499928,   88.59245405],\n",
       "          [ 772.79543788,  173.73912332],\n",
       "          [ 838.5616532 ,  285.89654137],\n",
       "          ...,\n",
       "          [ 790.45896827,  233.49676584],\n",
       "          [ 848.89998952,  269.13037089],\n",
       "          [1086.65463403,  235.79142527]]],\n",
       "\n",
       "\n",
       "        [[[ 866.5097464 ,   88.90071245],\n",
       "          [ 769.83813656,  170.75004607],\n",
       "          [ 834.70541756,  287.87418163],\n",
       "          ...,\n",
       "          [ 783.8787437 ,  233.1792174 ],\n",
       "          [ 833.87857284,  273.4517409 ],\n",
       "          [1086.93093166,  235.46774948]]],\n",
       "\n",
       "\n",
       "        ...,\n",
       "\n",
       "\n",
       "        [[[ 866.62723654,   88.9495688 ],\n",
       "          [ 769.52189932,  169.4493611 ],\n",
       "          [ 830.98317542,  288.16367856],\n",
       "          ...,\n",
       "          [ 780.61933505,  235.90081867],\n",
       "          [ 819.16834234,  273.96232744],\n",
       "          [1089.35327106,  231.64064764]]],\n",
       "\n",
       "\n",
       "        [[[ 866.53491005,   89.01316597],\n",
       "          [ 769.49409204,  169.21066637],\n",
       "          [ 831.70013216,  288.11912723],\n",
       "          ...,\n",
       "          [ 781.08123889,  235.49022434],\n",
       "          [ 819.34119904,  274.13060374],\n",
       "          [1088.84385385,  230.22095399]]],\n",
       "\n",
       "\n",
       "        [[[ 866.41975718,   89.08976623],\n",
       "          [ 769.27550186,  168.89287612],\n",
       "          [ 832.04701913,  288.1014289 ],\n",
       "          ...,\n",
       "          [ 781.51309552,  234.88769634],\n",
       "          [ 819.35833808,  274.13116593],\n",
       "          [1088.40320643,  230.3065747 ]]]],\n",
       "\n",
       "\n",
       "\n",
       "       [[[[ 789.58231906,  172.74080193],\n",
       "          [ 890.17963874,  268.16211808],\n",
       "          [ 867.49435763,  425.39036453],\n",
       "          ...,\n",
       "          [ 839.12908306,  347.91551412],\n",
       "          [ 777.07680771,  401.53843825],\n",
       "          [ 431.98455765,  423.7848988 ]]],\n",
       "\n",
       "\n",
       "        [[[ 790.43069239,  172.96879887],\n",
       "          [ 894.89621908,  262.01241989],\n",
       "          [ 905.76010057,  429.60412406],\n",
       "          ...,\n",
       "          [ 855.31972087,  344.36129652],\n",
       "          [ 828.73335492,  407.38385256],\n",
       "          [ 429.11547044,  423.15503929]]],\n",
       "\n",
       "\n",
       "        [[[ 791.26458755,  173.20346472],\n",
       "          [ 898.65087948,  257.28501757],\n",
       "          [ 938.18016636,  432.60174175],\n",
       "          ...,\n",
       "          [ 868.11699966,  342.24052214],\n",
       "          [ 869.05751422,  409.79724071],\n",
       "          [ 427.05225904,  422.71221776]]],\n",
       "\n",
       "\n",
       "        ...,\n",
       "\n",
       "\n",
       "        [[[ 791.35487077,  173.28331824],\n",
       "          [ 901.02650987,  255.4277925 ],\n",
       "          [ 982.19012687,  433.98169729],\n",
       "          ...,\n",
       "          [ 887.11087362,  345.03294227],\n",
       "          [ 919.95853856,  407.72937089],\n",
       "          [ 406.28502721,  417.47626802]]],\n",
       "\n",
       "\n",
       "        [[[ 791.45938793,  173.34603793],\n",
       "          [ 902.04256047,  255.07521713],\n",
       "          [ 982.08797647,  434.17591357],\n",
       "          ...,\n",
       "          [ 887.68480488,  344.64155212],\n",
       "          [ 920.16241892,  408.01963318],\n",
       "          [ 401.29665074,  415.25983035]]],\n",
       "\n",
       "\n",
       "        [[[ 791.58876941,  173.4206296 ],\n",
       "          [ 903.13606041,  254.57158912],\n",
       "          [ 981.89619346,  434.26773194],\n",
       "          ...,\n",
       "          [ 888.05360958,  343.99061832],\n",
       "          [ 920.27507867,  408.03087577],\n",
       "          [ 401.54671781,  415.23335283]]]],\n",
       "\n",
       "\n",
       "\n",
       "       [[[[ 611.74291619,   63.68800106],\n",
       "          [ 552.3360132 ,  118.95225905],\n",
       "          [ 564.83292962,  167.05528002],\n",
       "          ...,\n",
       "          [ 573.77530295,  154.68500657],\n",
       "          [ 606.30831637,  163.46510162],\n",
       "          [ 761.57537529,  156.97955875]]],\n",
       "\n",
       "\n",
       "        [[[ 611.29823938,   63.87199564],\n",
       "          [ 550.04311158,  116.7141617 ],\n",
       "          [ 548.78743521,  163.6935676 ],\n",
       "          ...,\n",
       "          [ 565.69135102,  153.71416809],\n",
       "          [ 582.2913561 ,  163.8377499 ],\n",
       "          [ 762.82623851,  157.12276655]]],\n",
       "\n",
       "\n",
       "        [[[ 610.86007354,   64.05809456],\n",
       "          [ 548.19162376,  115.03042687],\n",
       "          [ 535.35688922,  160.8730379 ],\n",
       "          ...,\n",
       "          [ 559.34107887,  153.0145028 ],\n",
       "          [ 563.56449421,  163.50533682],\n",
       "          [ 763.73074861,  157.30376216]]],\n",
       "\n",
       "\n",
       "        ...,\n",
       "\n",
       "\n",
       "        [[[ 610.83277032,   64.04306957],\n",
       "          [ 547.22525516,  113.94259585],\n",
       "          [ 517.83013931,  155.50148336],\n",
       "          ...,\n",
       "          [ 550.65791206,  152.2404819 ],\n",
       "          [ 540.85017824,  159.4587092 ],\n",
       "          [ 772.93017533,  158.98655113]]],\n",
       "\n",
       "\n",
       "        [[[ 610.77582513,   64.08152998],\n",
       "          [ 546.80911689,  113.63823407],\n",
       "          [ 518.00154776,  155.3204484 ],\n",
       "          ...,\n",
       "          [ 550.51062815,  151.79607623],\n",
       "          [ 540.78629234,  159.48151118],\n",
       "          [ 775.23302223,  159.4567321 ]]],\n",
       "\n",
       "\n",
       "        [[[ 610.70536594,   64.12812645],\n",
       "          [ 546.33555993,  113.31948824],\n",
       "          [ 518.13801307,  155.25551219],\n",
       "          ...,\n",
       "          [ 550.45712925,  151.28205222],\n",
       "          [ 540.74412742,  159.4604156 ],\n",
       "          [ 775.14003742,  159.57014361]]]],\n",
       "\n",
       "\n",
       "\n",
       "       [[[[ 258.94262057,   95.26286079],\n",
       "          [ 232.92346235,  208.42378121],\n",
       "          [ 244.87732609,  326.21801967],\n",
       "          ...,\n",
       "          [ 283.08026759,  268.45934135],\n",
       "          [ 310.32576307,  288.47572965],\n",
       "          [ 482.46016843,  217.92644718]]],\n",
       "\n",
       "\n",
       "        [[[ 258.61990484,   95.65684278],\n",
       "          [ 229.28873452,  204.28685055],\n",
       "          [ 212.42390043,  335.00144455],\n",
       "          ...,\n",
       "          [ 272.21220404,  269.82634263],\n",
       "          [ 274.2998758 ,  304.6284578 ],\n",
       "          [ 484.56853197,  217.11802162]]],\n",
       "\n",
       "\n",
       "        [[[ 258.30534934,   96.05366811],\n",
       "          [ 226.45547724,  201.15132985],\n",
       "          [ 185.218406  ,  342.11707355],\n",
       "          ...,\n",
       "          [ 263.27283882,  271.35359485],\n",
       "          [ 245.69914212,  315.81017585],\n",
       "          [ 486.23098777,  216.59025792]]],\n",
       "\n",
       "\n",
       "        ...,\n",
       "\n",
       "\n",
       "        [[[ 258.16739026,   96.11565156],\n",
       "          [ 224.01154864,  199.83414335],\n",
       "          [ 147.32366248,  348.88756051],\n",
       "          ...,\n",
       "          [ 247.28246039,  277.12904189],\n",
       "          [ 205.98767069,  324.27360184],\n",
       "          [ 503.19157625,  210.77477981]]],\n",
       "\n",
       "\n",
       "        [[[ 258.13583447,   96.19383312],\n",
       "          [ 222.98641986,  199.64981805],\n",
       "          [ 147.09655217,  348.76443794],\n",
       "          ...,\n",
       "          [ 246.39715766,  276.69598647],\n",
       "          [ 205.75545642,  324.48857287],\n",
       "          [ 508.01077549,  208.9195906 ]]],\n",
       "\n",
       "\n",
       "        [[[ 258.09675121,   96.28819621],\n",
       "          [ 221.96392528,  199.38223729],\n",
       "          [ 147.11484128,  348.68968736],\n",
       "          ...,\n",
       "          [ 245.68046599,  276.0109604 ],\n",
       "          [ 205.64334795,  324.50367755],\n",
       "          [ 508.12891745,  209.02462496]]]]])"
      ]
     },
     "execution_count": 6,
     "metadata": {},
     "output_type": "execute_result"
    }
   ],
   "source": [
    "import sleap_anipose as slap\n",
    "output_file = file_path = \"/home/il620/beneuro_pose_estimation/projects/complete_projects/M045_2024_11_20_11_15/M045_2024_11_20_11_15_triangulation_0_1000.h5\"\n",
    "calib_file_path = \"/home/il620/beneuro_pose_estimation/projects/calibrations/calibration_2024_11_20_11_25.toml\"\n",
    "start = 0 \n",
    "end = 1000\n",
    "session = \"M045_2024_11_20_11_15\"\n",
    "project_dir = \"/home/il620/beneuro_pose_estimation/projects/complete_projects/M045_2024_11_20_11_15\"\n",
    "reproj_output_file = f\"{project_dir}/{session}_reprojections_{start}_{end}.h5\"\n",
    "\n",
    "\n",
    "slap.reproject(p3d=output_file ,calib= calib_file_path,frames=(start, end),fname=reproj_output_file)\n",
    "        # #  output: (n_cams, n_frames, n_tracks, n_nodes, 2)"
   ]
  },
  {
   "cell_type": "code",
   "execution_count": 8,
   "metadata": {},
   "outputs": [
    {
     "name": "stdout",
     "output_type": "stream",
     "text": [
      "Camera_Back_Right: <class 'h5py._hl.dataset.Dataset'>\n",
      "Camera_Front_Left: <class 'h5py._hl.dataset.Dataset'>\n",
      "Camera_Front_Right: <class 'h5py._hl.dataset.Dataset'>\n",
      "Camera_Side_Left: <class 'h5py._hl.dataset.Dataset'>\n",
      "Camera_Side_Right: <class 'h5py._hl.dataset.Dataset'>\n",
      "Camera_Top_Left: <class 'h5py._hl.dataset.Dataset'>\n"
     ]
    }
   ],
   "source": [
    "import h5py\n",
    "with h5py.File(reproj_output_file , 'r') as h5_file:\n",
    "    # Recursively list all groups and datasets\n",
    "    def print_structure(name, obj):\n",
    "        print(f\"{name}: {type(obj)}\")\n",
    "    h5_file.visititems(print_structure)"
   ]
  },
  {
   "cell_type": "code",
   "execution_count": 9,
   "metadata": {},
   "outputs": [
    {
     "name": "stdout",
     "output_type": "stream",
     "text": [
      "<HDF5 dataset \"Camera_Back_Right\": shape (1000, 1, 19, 2), type \"<f8\">\n"
     ]
    }
   ],
   "source": [
    "with h5py.File(reproj_output_file, 'r') as h5_file:\n",
    "    print(h5_file[\"Camera_Back_Right\"])"
   ]
  },
  {
   "cell_type": "code",
   "execution_count": 3,
   "metadata": {},
   "outputs": [
    {
     "name": "stdout",
     "output_type": "stream",
     "text": [
      "INFO:root:Running pose estimation on M045_2024_11_20_11_15\n",
      "WARNING:root:Invalid calibration folder format: ChAruCco_W5_H4_20240215. Skipping.\n",
      "WARNING:root:Invalid calibration folder format: ChAruCco_W5_H4_20240207. Skipping.\n",
      "WARNING:root:Invalid calibration folder format: W5_H4_10mm_20231204. Skipping.\n",
      "WARNING:root:Invalid calibration folder format: W5_H4_10mm_20231102. Skipping.\n",
      "WARNING:root:Invalid calibration folder format: ChAruCco_W5_H4_20240325. Skipping.\n",
      "WARNING:root:Invalid calibration folder format: ChAruCco_W5_H4_20240219. Skipping.\n",
      "WARNING:root:Invalid calibration folder format: W5_H4_20240202. Skipping.\n",
      "WARNING:root:Invalid calibration folder format: ChAruCco_W5_H4_20240209. Skipping.\n",
      "WARNING:root:Invalid calibration folder format: ChAruCo_W5_H4_20240411. Skipping.\n",
      "INFO:root:Using calibration folder: /mnt/rds/bb2020/projects/beneuro/live/raw/pose-estimation/calibration-videos/camera_calibration_2024_11_20_11_25 for session M045_2024_11_20_11_35\n",
      "/home/il620/beneuro_pose_estimation/projects/calibrations/calibration_2024_11_20_11_25.toml\n",
      "INFO:root:Calibration file already exists: /home/il620/beneuro_pose_estimation/projects/calibrations/calibration_2024_11_20_11_25.toml\n",
      "INFO:root:Configuration file already exists at /home/il620/beneuro_pose_estimation/projects/complete_projects/M045_2024_11_20_11_15/config.toml\n",
      "Index(['fnum', 'shoulder_center_x', 'shoulder_center_y', 'shoulder_center_z',\n",
      "       'left_shoulder_x', 'left_shoulder_y', 'left_shoulder_z', 'left_paw_x',\n",
      "       'left_paw_y', 'left_paw_z', 'right_shoulder_x', 'right_shoulder_y',\n",
      "       'right_shoulder_z', 'right_elbow_x', 'right_elbow_y', 'right_elbow_z',\n",
      "       'right_paw_x', 'right_paw_y', 'right_paw_z', 'hip_center_x',\n",
      "       'hip_center_y', 'hip_center_z', 'left_knee_x', 'left_knee_y',\n",
      "       'left_knee_z', 'left_ankle_x', 'left_ankle_y', 'left_ankle_z',\n",
      "       'left_foot_x', 'left_foot_y', 'left_foot_z', 'right_knee_x',\n",
      "       'right_knee_y', 'right_knee_z', 'right_ankle_x', 'right_ankle_y',\n",
      "       'right_ankle_z', 'right_foot_x', 'right_foot_y', 'right_foot_z',\n",
      "       'tail_base_x', 'tail_base_y', 'tail_base_z', 'tail_middle_x',\n",
      "       'tail_middle_y', 'tail_middle_z', 'tail_tip_x', 'tail_tip_y',\n",
      "       'tail_tip_z', 'left_elbow_x', 'left_elbow_y', 'left_elbow_z',\n",
      "       'left_wrist_x', 'left_wrist_y', 'left_wrist_z', 'right_wrist_x',\n",
      "       'right_wrist_y', 'right_wrist_z', 'shoulder_center_error',\n",
      "       'left_shoulder_error', 'left_paw_error', 'right_shoulder_error',\n",
      "       'right_elbow_error', 'right_paw_error', 'hip_center_error',\n",
      "       'left_knee_error', 'left_ankle_error', 'left_foot_error',\n",
      "       'right_knee_error', 'right_ankle_error', 'right_foot_error',\n",
      "       'tail_base_error', 'tail_middle_error', 'tail_tip_error',\n",
      "       'left_elbow_error', 'left_wrist_error', 'right_wrist_error',\n",
      "       'shoulder_center_score', 'left_shoulder_score', 'left_paw_score',\n",
      "       'right_shoulder_score', 'right_elbow_score', 'right_paw_score',\n",
      "       'hip_center_score', 'left_knee_score', 'left_ankle_score',\n",
      "       'left_foot_score', 'right_knee_score', 'right_ankle_score',\n",
      "       'right_foot_score', 'tail_base_score', 'tail_middle_score',\n",
      "       'tail_tip_score', 'left_elbow_score', 'left_wrist_score',\n",
      "       'right_wrist_score'],\n",
      "      dtype='object')\n",
      "INFO:root:Pose estimation completed for M045_2024_11_20_11_15\n",
      "INFO:root:Angles computed and combined CSV saved at /home/il620/beneuro_pose_estimation/projects/complete_projects/M045_2024_11_20_11_15/M045_2024_11_20_11_15_pose_and_angles.csv\n"
     ]
    }
   ],
   "source": [
    "session = \"M045_2024_11_20_11_15\"\n",
    "aniposeTools.run_pose_estimation(session)"
   ]
  },
  {
   "cell_type": "code",
   "execution_count": 4,
   "metadata": {},
   "outputs": [
    {
     "data": {
      "text/plain": [
       "<Figure size 2000x500 with 0 Axes>"
      ]
     },
     "metadata": {},
     "output_type": "display_data"
    },
    {
     "data": {
      "image/png": "[encoded data removed]",
      "text/plain": [
       "<Figure size 640x480 with 1 Axes>"
      ]
     },
     "metadata": {},
     "output_type": "display_data"
    }
   ],
   "source": [
    "import pandas as pd\n",
    "import matplotlib.pyplot as plt\n",
    "outname = \"/home/il620/beneuro_pose_estimation/projects/complete_projects/M045_2024_11_20_11_15/M045_2024_11_20_11_15_pose_and_angles.csv\"\n",
    "project_dir = \"/home/il620/beneuro_pose_estimation/projects/complete_projects/M045_2024_11_20_11_15\"\n",
    "df = pd.read_csv(outname)\n",
    "# only plot left_elbow, right_elbow, left_knee, right_knee\n",
    "df = df[['left_elbow', 'right_elbow', 'left_knee', 'right_knee',\"left_ankle\",\"right_ankle\"]]\n",
    "# only plot first 100 frames\n",
    "df = df[400:500]\n",
    "# change figure size\n",
    "plt.figure(figsize=(20, 5))\n",
    "df.plot()\n",
    "plt.ylabel('angle (degree)')\n",
    "plt.xlabel('frame')\n",
    "# change the size of legend\n",
    "plt.legend(fontsize='x-small')\n",
    "# save figure as pdf\n",
    "plt.savefig(f'{project_dir}/angles.pdf')\n",
    "plt.show()"
   ]
  },
  {
   "cell_type": "code",
   "execution_count": null,
   "metadata": {},
   "outputs": [
    {
     "name": "stdout",
     "output_type": "stream",
     "text": [
      "INFO:numexpr.utils:Note: NumExpr detected 24 cores but \"NUMEXPR_MAX_THREADS\" not set, so enforcing safe limit of 8.\n",
      "INFO:numexpr.utils:NumExpr defaulting to 8 threads.\n",
      "\n",
      "Exporting to SLEAP Analysis file...\n",
      "\ttrack_names: 0\n",
      "\tnode_names: 19\n",
      "\tedge_names: 18\n",
      "\tedge_inds: 18\n",
      "\ttracks: (30013, 19, 2, 1)\n",
      "\ttrack_occupancy: (1, 30013)\n",
      "\tpoint_scores: (30013, 19, 1)\n",
      "\tinstance_scores: (30013, 1)\n",
      "\ttracking_scores: (30013, 1)\n",
      "\tlabels_path: /home/il620/beneuro_pose_estimation/projects/predictions/M045_2024_11_20_11_15_Camera_Top_Left.slp.predictions.slp\n",
      "\tvideo_path: /mnt/rds/bb2020/projects/beneuro/live/raw/M045/M045_2024_11_20_11_15/Recording_2024-11-20T111527/Camera_0.avi\n",
      "\tvideo_ind: 0\n",
      "\tprovenance: {\"model_paths\": [\"/mnt/rds/bb2020/projects/beneuro/live/raw/pose-estimation/models/h1_new_setup/Camera_Top_Left/training_config.json\"], \"predictor\": \"SingleInstancePredictor\", \"sleap_version\": \"1.3.4\", \"platform\": \"Linux-5.15.0-117-generic-x86_64-with-debian-bullseye-sid\", \"command\": \"/home/il620/miniconda3/envs/bnp/bin/sleap-track /mnt/rds/bb2020/projects/beneuro/live/raw/M045/M045_2024_11_20_11_15/Recording_2024-11-20T111527/Camera_0.avi --video.index 0 -m /mnt/rds/bb2020/projects/beneuro/live/raw/pose-estimation/models/h1_new_setup/Camera_Top_Left/training_config.json -o /home/il620/beneuro_pose_estimation/projects/predictions/M045_2024_11_20_11_15_Camera_Top_Left.slp.predictions.slp\", \"data_path\": \"/mnt/rds/bb2020/projects/beneuro/live/raw/M045/M045_2024_11_20_11_15/Recording_2024-11-20T111527/Camera_0.avi\", \"output_path\": \"/home/il620/beneuro_pose_estimation/projects/predictions/M045_2024_11_20_11_15_Camera_Top_Left.slp.predictions.slp\", \"total_elapsed\": 440.06957721710205, \"start_timestamp\": \"2024-11-28 01:07:04.276457\", \"finish_timestamp\": \"2024-11-28 01:14:24.346020\", \"args\": {\"data_path\": \"/mnt/rds/bb2020/projects/beneuro/live/raw/M045/M045_2024_11_20_11_15/Recording_2024-11-20T111527/Camera_0.avi\", \"models\": [\"/mnt/rds/bb2020/projects/beneuro/live/raw/pose-estimation/models/h1_new_setup/Camera_Top_Left/training_config.json\"], \"frames\": \"\", \"only_labeled_frames\": false, \"only_suggested_frames\": false, \"output\": \"/home/il620/beneuro_pose_estimation/projects/predictions/M045_2024_11_20_11_15_Camera_Top_Left.slp.predictions.slp\", \"no_empty_frames\": false, \"verbosity\": \"rich\", \"video.dataset\": null, \"video.input_format\": \"channels_last\", \"video.index\": \"0\", \"cpu\": false, \"first_gpu\": false, \"last_gpu\": false, \"gpu\": \"auto\", \"max_edge_length_ratio\": 0.25, \"dist_penalty_weight\": 1.0, \"batch_size\": 4, \"open_in_gui\": false, \"peak_threshold\": 0.2, \"max_instances\": null, \"tracking.tracker\": null, \"tracking.max_tracking\": null, \"tracking.max_tracks\": null, \"tracking.target_instance_count\": null, \"tracking.pre_cull_to_target\": null, \"tracking.pre_cull_iou_threshold\": null, \"tracking.post_connect_single_breaks\": null, \"tracking.clean_instance_count\": null, \"tracking.clean_iou_threshold\": null, \"tracking.similarity\": null, \"tracking.match\": null, \"tracking.robust\": null, \"tracking.track_window\": null, \"tracking.min_new_track_points\": null, \"tracking.min_match_points\": null, \"tracking.img_scale\": null, \"tracking.of_window_size\": null, \"tracking.of_max_levels\": null, \"tracking.save_shifted_instances\": null, \"tracking.kf_node_indices\": null, \"tracking.kf_init_frame_count\": null}}\n",
      "Saved as /home/il620/beneuro_pose_estimation/projects/complete_projects/M045_2024_11_20_11_15/M045_2024_11_20_11_15_Camera_Top_Left.analysis.h5\n",
      "INFO:root:Converted /home/il620/beneuro_pose_estimation/projects/predictions/M045_2024_11_20_11_15_Camera_Top_Left.slp.predictions.slp to /home/il620/beneuro_pose_estimation/projects/complete_projects/M045_2024_11_20_11_15/M045_2024_11_20_11_15_Camera_Top_Left.analysis.h5\n",
      "INFO:numexpr.utils:Note: NumExpr detected 24 cores but \"NUMEXPR_MAX_THREADS\" not set, so enforcing safe limit of 8.\n",
      "INFO:numexpr.utils:NumExpr defaulting to 8 threads.\n",
      "\n",
      "Exporting to SLEAP Analysis file...\n",
      "\ttrack_names: 0\n",
      "\tnode_names: 19\n",
      "\tedge_names: 18\n",
      "\tedge_inds: 18\n",
      "\ttracks: (30013, 19, 2, 1)\n",
      "\ttrack_occupancy: (1, 30013)\n",
      "\tpoint_scores: (30013, 19, 1)\n",
      "\tinstance_scores: (30013, 1)\n",
      "\ttracking_scores: (30013, 1)\n",
      "\tlabels_path: /home/il620/beneuro_pose_estimation/projects/predictions/M045_2024_11_20_11_15_Camera_Side_Left.slp.predictions.slp\n",
      "\tvideo_path: /mnt/rds/bb2020/projects/beneuro/live/raw/M045/M045_2024_11_20_11_15/Recording_2024-11-20T111527/Camera_1.avi\n",
      "\tvideo_ind: 0\n",
      "\tprovenance: {\"model_paths\": [\"/mnt/rds/bb2020/projects/beneuro/live/raw/pose-estimation/models/h1_new_setup/Camera_Side_Left/training_config.json\"], \"predictor\": \"SingleInstancePredictor\", \"sleap_version\": \"1.3.4\", \"platform\": \"Linux-5.15.0-117-generic-x86_64-with-debian-bullseye-sid\", \"command\": \"/home/il620/miniconda3/envs/bnp/bin/sleap-track /mnt/rds/bb2020/projects/beneuro/live/raw/M045/M045_2024_11_20_11_15/Recording_2024-11-20T111527/Camera_1.avi --video.index 0 -m /mnt/rds/bb2020/projects/beneuro/live/raw/pose-estimation/models/h1_new_setup/Camera_Side_Left/training_config.json -o /home/il620/beneuro_pose_estimation/projects/predictions/M045_2024_11_20_11_15_Camera_Side_Left.slp.predictions.slp\", \"data_path\": \"/mnt/rds/bb2020/projects/beneuro/live/raw/M045/M045_2024_11_20_11_15/Recording_2024-11-20T111527/Camera_1.avi\", \"output_path\": \"/home/il620/beneuro_pose_estimation/projects/predictions/M045_2024_11_20_11_15_Camera_Side_Left.slp.predictions.slp\", \"total_elapsed\": 407.6916608810425, \"start_timestamp\": \"2024-11-28 01:14:28.931278\", \"finish_timestamp\": \"2024-11-28 01:21:16.622920\", \"args\": {\"data_path\": \"/mnt/rds/bb2020/projects/beneuro/live/raw/M045/M045_2024_11_20_11_15/Recording_2024-11-20T111527/Camera_1.avi\", \"models\": [\"/mnt/rds/bb2020/projects/beneuro/live/raw/pose-estimation/models/h1_new_setup/Camera_Side_Left/training_config.json\"], \"frames\": \"\", \"only_labeled_frames\": false, \"only_suggested_frames\": false, \"output\": \"/home/il620/beneuro_pose_estimation/projects/predictions/M045_2024_11_20_11_15_Camera_Side_Left.slp.predictions.slp\", \"no_empty_frames\": false, \"verbosity\": \"rich\", \"video.dataset\": null, \"video.input_format\": \"channels_last\", \"video.index\": \"0\", \"cpu\": false, \"first_gpu\": false, \"last_gpu\": false, \"gpu\": \"auto\", \"max_edge_length_ratio\": 0.25, \"dist_penalty_weight\": 1.0, \"batch_size\": 4, \"open_in_gui\": false, \"peak_threshold\": 0.2, \"max_instances\": null, \"tracking.tracker\": null, \"tracking.max_tracking\": null, \"tracking.max_tracks\": null, \"tracking.target_instance_count\": null, \"tracking.pre_cull_to_target\": null, \"tracking.pre_cull_iou_threshold\": null, \"tracking.post_connect_single_breaks\": null, \"tracking.clean_instance_count\": null, \"tracking.clean_iou_threshold\": null, \"tracking.similarity\": null, \"tracking.match\": null, \"tracking.robust\": null, \"tracking.track_window\": null, \"tracking.min_new_track_points\": null, \"tracking.min_match_points\": null, \"tracking.img_scale\": null, \"tracking.of_window_size\": null, \"tracking.of_max_levels\": null, \"tracking.save_shifted_instances\": null, \"tracking.kf_node_indices\": null, \"tracking.kf_init_frame_count\": null}}\n",
      "Saved as /home/il620/beneuro_pose_estimation/projects/complete_projects/M045_2024_11_20_11_15/M045_2024_11_20_11_15_Camera_Side_Left.analysis.h5\n",
      "INFO:root:Converted /home/il620/beneuro_pose_estimation/projects/predictions/M045_2024_11_20_11_15_Camera_Side_Left.slp.predictions.slp to /home/il620/beneuro_pose_estimation/projects/complete_projects/M045_2024_11_20_11_15/M045_2024_11_20_11_15_Camera_Side_Left.analysis.h5\n",
      "INFO:numexpr.utils:Note: NumExpr detected 24 cores but \"NUMEXPR_MAX_THREADS\" not set, so enforcing safe limit of 8.\n",
      "INFO:numexpr.utils:NumExpr defaulting to 8 threads.\n",
      "\n",
      "Exporting to SLEAP Analysis file...\n",
      "\ttrack_names: 0\n",
      "\tnode_names: 19\n",
      "\tedge_names: 18\n",
      "\tedge_inds: 18\n",
      "\ttracks: (30013, 19, 2, 1)\n",
      "\ttrack_occupancy: (1, 30013)\n",
      "\tpoint_scores: (30013, 19, 1)\n",
      "\tinstance_scores: (30013, 1)\n",
      "\ttracking_scores: (30013, 1)\n",
      "\tlabels_path: /home/il620/beneuro_pose_estimation/projects/predictions/M045_2024_11_20_11_15_Camera_Front_Right.slp.predictions.slp\n",
      "\tvideo_path: /mnt/rds/bb2020/projects/beneuro/live/raw/M045/M045_2024_11_20_11_15/Recording_2024-11-20T111527/Camera_2.avi\n",
      "\tvideo_ind: 0\n",
      "\tprovenance: {\"model_paths\": [\"/mnt/rds/bb2020/projects/beneuro/live/raw/pose-estimation/models/h1_new_setup/Camera_Front_Right/training_config.json\"], \"predictor\": \"SingleInstancePredictor\", \"sleap_version\": \"1.3.4\", \"platform\": \"Linux-5.15.0-117-generic-x86_64-with-debian-bullseye-sid\", \"command\": \"/home/il620/miniconda3/envs/bnp/bin/sleap-track /mnt/rds/bb2020/projects/beneuro/live/raw/M045/M045_2024_11_20_11_15/Recording_2024-11-20T111527/Camera_2.avi --video.index 0 -m /mnt/rds/bb2020/projects/beneuro/live/raw/pose-estimation/models/h1_new_setup/Camera_Front_Right/training_config.json -o /home/il620/beneuro_pose_estimation/projects/predictions/M045_2024_11_20_11_15_Camera_Front_Right.slp.predictions.slp\", \"data_path\": \"/mnt/rds/bb2020/projects/beneuro/live/raw/M045/M045_2024_11_20_11_15/Recording_2024-11-20T111527/Camera_2.avi\", \"output_path\": \"/home/il620/beneuro_pose_estimation/projects/predictions/M045_2024_11_20_11_15_Camera_Front_Right.slp.predictions.slp\", \"total_elapsed\": 377.07861733436584, \"start_timestamp\": \"2024-11-28 01:21:21.301388\", \"finish_timestamp\": \"2024-11-28 01:27:38.379988\", \"args\": {\"data_path\": \"/mnt/rds/bb2020/projects/beneuro/live/raw/M045/M045_2024_11_20_11_15/Recording_2024-11-20T111527/Camera_2.avi\", \"models\": [\"/mnt/rds/bb2020/projects/beneuro/live/raw/pose-estimation/models/h1_new_setup/Camera_Front_Right/training_config.json\"], \"frames\": \"\", \"only_labeled_frames\": false, \"only_suggested_frames\": false, \"output\": \"/home/il620/beneuro_pose_estimation/projects/predictions/M045_2024_11_20_11_15_Camera_Front_Right.slp.predictions.slp\", \"no_empty_frames\": false, \"verbosity\": \"rich\", \"video.dataset\": null, \"video.input_format\": \"channels_last\", \"video.index\": \"0\", \"cpu\": false, \"first_gpu\": false, \"last_gpu\": false, \"gpu\": \"auto\", \"max_edge_length_ratio\": 0.25, \"dist_penalty_weight\": 1.0, \"batch_size\": 4, \"open_in_gui\": false, \"peak_threshold\": 0.2, \"max_instances\": null, \"tracking.tracker\": null, \"tracking.max_tracking\": null, \"tracking.max_tracks\": null, \"tracking.target_instance_count\": null, \"tracking.pre_cull_to_target\": null, \"tracking.pre_cull_iou_threshold\": null, \"tracking.post_connect_single_breaks\": null, \"tracking.clean_instance_count\": null, \"tracking.clean_iou_threshold\": null, \"tracking.similarity\": null, \"tracking.match\": null, \"tracking.robust\": null, \"tracking.track_window\": null, \"tracking.min_new_track_points\": null, \"tracking.min_match_points\": null, \"tracking.img_scale\": null, \"tracking.of_window_size\": null, \"tracking.of_max_levels\": null, \"tracking.save_shifted_instances\": null, \"tracking.kf_node_indices\": null, \"tracking.kf_init_frame_count\": null}}\n",
      "Saved as /home/il620/beneuro_pose_estimation/projects/complete_projects/M045_2024_11_20_11_15/M045_2024_11_20_11_15_Camera_Front_Right.analysis.h5\n",
      "INFO:root:Converted /home/il620/beneuro_pose_estimation/projects/predictions/M045_2024_11_20_11_15_Camera_Front_Right.slp.predictions.slp to /home/il620/beneuro_pose_estimation/projects/complete_projects/M045_2024_11_20_11_15/M045_2024_11_20_11_15_Camera_Front_Right.analysis.h5\n",
      "INFO:numexpr.utils:Note: NumExpr detected 24 cores but \"NUMEXPR_MAX_THREADS\" not set, so enforcing safe limit of 8.\n",
      "INFO:numexpr.utils:NumExpr defaulting to 8 threads.\n",
      "\n",
      "Exporting to SLEAP Analysis file...\n",
      "\ttrack_names: 0\n",
      "\tnode_names: 19\n",
      "\tedge_names: 18\n",
      "\tedge_inds: 18\n",
      "\ttracks: (30013, 19, 2, 1)\n",
      "\ttrack_occupancy: (1, 30013)\n",
      "\tpoint_scores: (30013, 19, 1)\n",
      "\tinstance_scores: (30013, 1)\n",
      "\ttracking_scores: (30013, 1)\n",
      "\tlabels_path: /home/il620/beneuro_pose_estimation/projects/predictions/M045_2024_11_20_11_15_Camera_Front_Left.slp.predictions.slp\n",
      "\tvideo_path: /mnt/rds/bb2020/projects/beneuro/live/raw/M045/M045_2024_11_20_11_15/Recording_2024-11-20T111527/Camera_4.avi\n",
      "\tvideo_ind: 0\n",
      "\tprovenance: {\"model_paths\": [\"/mnt/rds/bb2020/projects/beneuro/live/raw/pose-estimation/models/h1_new_setup/Camera_Front_Left/training_config.json\"], \"predictor\": \"SingleInstancePredictor\", \"sleap_version\": \"1.3.4\", \"platform\": \"Linux-5.15.0-117-generic-x86_64-with-debian-bullseye-sid\", \"command\": \"/home/il620/miniconda3/envs/bnp/bin/sleap-track /mnt/rds/bb2020/projects/beneuro/live/raw/M045/M045_2024_11_20_11_15/Recording_2024-11-20T111527/Camera_4.avi --video.index 0 -m /mnt/rds/bb2020/projects/beneuro/live/raw/pose-estimation/models/h1_new_setup/Camera_Front_Left/training_config.json -o /home/il620/beneuro_pose_estimation/projects/predictions/M045_2024_11_20_11_15_Camera_Front_Left.slp.predictions.slp\", \"data_path\": \"/mnt/rds/bb2020/projects/beneuro/live/raw/M045/M045_2024_11_20_11_15/Recording_2024-11-20T111527/Camera_4.avi\", \"output_path\": \"/home/il620/beneuro_pose_estimation/projects/predictions/M045_2024_11_20_11_15_Camera_Front_Left.slp.predictions.slp\", \"total_elapsed\": 349.0068233013153, \"start_timestamp\": \"2024-11-28 01:27:43.020994\", \"finish_timestamp\": \"2024-11-28 01:33:32.027800\", \"args\": {\"data_path\": \"/mnt/rds/bb2020/projects/beneuro/live/raw/M045/M045_2024_11_20_11_15/Recording_2024-11-20T111527/Camera_4.avi\", \"models\": [\"/mnt/rds/bb2020/projects/beneuro/live/raw/pose-estimation/models/h1_new_setup/Camera_Front_Left/training_config.json\"], \"frames\": \"\", \"only_labeled_frames\": false, \"only_suggested_frames\": false, \"output\": \"/home/il620/beneuro_pose_estimation/projects/predictions/M045_2024_11_20_11_15_Camera_Front_Left.slp.predictions.slp\", \"no_empty_frames\": false, \"verbosity\": \"rich\", \"video.dataset\": null, \"video.input_format\": \"channels_last\", \"video.index\": \"0\", \"cpu\": false, \"first_gpu\": false, \"last_gpu\": false, \"gpu\": \"auto\", \"max_edge_length_ratio\": 0.25, \"dist_penalty_weight\": 1.0, \"batch_size\": 4, \"open_in_gui\": false, \"peak_threshold\": 0.2, \"max_instances\": null, \"tracking.tracker\": null, \"tracking.max_tracking\": null, \"tracking.max_tracks\": null, \"tracking.target_instance_count\": null, \"tracking.pre_cull_to_target\": null, \"tracking.pre_cull_iou_threshold\": null, \"tracking.post_connect_single_breaks\": null, \"tracking.clean_instance_count\": null, \"tracking.clean_iou_threshold\": null, \"tracking.similarity\": null, \"tracking.match\": null, \"tracking.robust\": null, \"tracking.track_window\": null, \"tracking.min_new_track_points\": null, \"tracking.min_match_points\": null, \"tracking.img_scale\": null, \"tracking.of_window_size\": null, \"tracking.of_max_levels\": null, \"tracking.save_shifted_instances\": null, \"tracking.kf_node_indices\": null, \"tracking.kf_init_frame_count\": null}}\n",
      "Saved as /home/il620/beneuro_pose_estimation/projects/complete_projects/M045_2024_11_20_11_15/M045_2024_11_20_11_15_Camera_Front_Left.analysis.h5\n",
      "INFO:root:Converted /home/il620/beneuro_pose_estimation/projects/predictions/M045_2024_11_20_11_15_Camera_Front_Left.slp.predictions.slp to /home/il620/beneuro_pose_estimation/projects/complete_projects/M045_2024_11_20_11_15/M045_2024_11_20_11_15_Camera_Front_Left.analysis.h5\n",
      "INFO:numexpr.utils:Note: NumExpr detected 24 cores but \"NUMEXPR_MAX_THREADS\" not set, so enforcing safe limit of 8.\n",
      "INFO:numexpr.utils:NumExpr defaulting to 8 threads.\n",
      "\n",
      "Exporting to SLEAP Analysis file...\n",
      "\ttrack_names: 0\n",
      "\tnode_names: 19\n",
      "\tedge_names: 18\n",
      "\tedge_inds: 18\n",
      "\ttracks: (30013, 19, 2, 1)\n",
      "\ttrack_occupancy: (1, 30013)\n",
      "\tpoint_scores: (30013, 19, 1)\n",
      "\tinstance_scores: (30013, 1)\n",
      "\ttracking_scores: (30013, 1)\n",
      "\tlabels_path: /home/il620/beneuro_pose_estimation/projects/predictions/M045_2024_11_20_11_15_Camera_Side_Right.slp.predictions.slp\n",
      "\tvideo_path: /mnt/rds/bb2020/projects/beneuro/live/raw/M045/M045_2024_11_20_11_15/Recording_2024-11-20T111527/Camera_5.avi\n",
      "\tvideo_ind: 0\n",
      "\tprovenance: {\"model_paths\": [\"/mnt/rds/bb2020/projects/beneuro/live/raw/pose-estimation/models/h1_new_setup/Camera_Side_Right/training_config.json\"], \"predictor\": \"SingleInstancePredictor\", \"sleap_version\": \"1.3.4\", \"platform\": \"Linux-5.15.0-117-generic-x86_64-with-debian-bullseye-sid\", \"command\": \"/home/il620/miniconda3/envs/bnp/bin/sleap-track /mnt/rds/bb2020/projects/beneuro/live/raw/M045/M045_2024_11_20_11_15/Recording_2024-11-20T111527/Camera_5.avi --video.index 0 -m /mnt/rds/bb2020/projects/beneuro/live/raw/pose-estimation/models/h1_new_setup/Camera_Side_Right/training_config.json -o /home/il620/beneuro_pose_estimation/projects/predictions/M045_2024_11_20_11_15_Camera_Side_Right.slp.predictions.slp\", \"data_path\": \"/mnt/rds/bb2020/projects/beneuro/live/raw/M045/M045_2024_11_20_11_15/Recording_2024-11-20T111527/Camera_5.avi\", \"output_path\": \"/home/il620/beneuro_pose_estimation/projects/predictions/M045_2024_11_20_11_15_Camera_Side_Right.slp.predictions.slp\", \"total_elapsed\": 349.5888373851776, \"start_timestamp\": \"2024-11-28 01:33:36.729656\", \"finish_timestamp\": \"2024-11-28 01:39:26.318476\", \"args\": {\"data_path\": \"/mnt/rds/bb2020/projects/beneuro/live/raw/M045/M045_2024_11_20_11_15/Recording_2024-11-20T111527/Camera_5.avi\", \"models\": [\"/mnt/rds/bb2020/projects/beneuro/live/raw/pose-estimation/models/h1_new_setup/Camera_Side_Right/training_config.json\"], \"frames\": \"\", \"only_labeled_frames\": false, \"only_suggested_frames\": false, \"output\": \"/home/il620/beneuro_pose_estimation/projects/predictions/M045_2024_11_20_11_15_Camera_Side_Right.slp.predictions.slp\", \"no_empty_frames\": false, \"verbosity\": \"rich\", \"video.dataset\": null, \"video.input_format\": \"channels_last\", \"video.index\": \"0\", \"cpu\": false, \"first_gpu\": false, \"last_gpu\": false, \"gpu\": \"auto\", \"max_edge_length_ratio\": 0.25, \"dist_penalty_weight\": 1.0, \"batch_size\": 4, \"open_in_gui\": false, \"peak_threshold\": 0.2, \"max_instances\": null, \"tracking.tracker\": null, \"tracking.max_tracking\": null, \"tracking.max_tracks\": null, \"tracking.target_instance_count\": null, \"tracking.pre_cull_to_target\": null, \"tracking.pre_cull_iou_threshold\": null, \"tracking.post_connect_single_breaks\": null, \"tracking.clean_instance_count\": null, \"tracking.clean_iou_threshold\": null, \"tracking.similarity\": null, \"tracking.match\": null, \"tracking.robust\": null, \"tracking.track_window\": null, \"tracking.min_new_track_points\": null, \"tracking.min_match_points\": null, \"tracking.img_scale\": null, \"tracking.of_window_size\": null, \"tracking.of_max_levels\": null, \"tracking.save_shifted_instances\": null, \"tracking.kf_node_indices\": null, \"tracking.kf_init_frame_count\": null}}\n",
      "Saved as /home/il620/beneuro_pose_estimation/projects/complete_projects/M045_2024_11_20_11_15/M045_2024_11_20_11_15_Camera_Side_Right.analysis.h5\n",
      "INFO:root:Converted /home/il620/beneuro_pose_estimation/projects/predictions/M045_2024_11_20_11_15_Camera_Side_Right.slp.predictions.slp to /home/il620/beneuro_pose_estimation/projects/complete_projects/M045_2024_11_20_11_15/M045_2024_11_20_11_15_Camera_Side_Right.analysis.h5\n",
      "INFO:numexpr.utils:Note: NumExpr detected 24 cores but \"NUMEXPR_MAX_THREADS\" not set, so enforcing safe limit of 8.\n",
      "INFO:numexpr.utils:NumExpr defaulting to 8 threads.\n",
      "\n",
      "Exporting to SLEAP Analysis file...\n",
      "\ttrack_names: 0\n",
      "\tnode_names: 19\n",
      "\tedge_names: 18\n",
      "\tedge_inds: 18\n",
      "\ttracks: (30013, 19, 2, 1)\n",
      "\ttrack_occupancy: (1, 30013)\n",
      "\tpoint_scores: (30013, 19, 1)\n",
      "\tinstance_scores: (30013, 1)\n",
      "\ttracking_scores: (30013, 1)\n",
      "\tlabels_path: /home/il620/beneuro_pose_estimation/projects/predictions/M045_2024_11_20_11_15_Camera_Back_Right.slp.predictions.slp\n",
      "\tvideo_path: /mnt/rds/bb2020/projects/beneuro/live/raw/M045/M045_2024_11_20_11_15/Recording_2024-11-20T111527/Camera_6.avi\n",
      "\tvideo_ind: 0\n",
      "\tprovenance: {\"model_paths\": [\"/mnt/rds/bb2020/projects/beneuro/live/raw/pose-estimation/models/h1_new_setup/Camera_Back_Right/training_config.json\"], \"predictor\": \"SingleInstancePredictor\", \"sleap_version\": \"1.3.4\", \"platform\": \"Linux-5.15.0-117-generic-x86_64-with-debian-bullseye-sid\", \"command\": \"/home/il620/miniconda3/envs/bnp/bin/sleap-track /mnt/rds/bb2020/projects/beneuro/live/raw/M045/M045_2024_11_20_11_15/Recording_2024-11-20T111527/Camera_6.avi --video.index 0 -m /mnt/rds/bb2020/projects/beneuro/live/raw/pose-estimation/models/h1_new_setup/Camera_Back_Right/training_config.json -o /home/il620/beneuro_pose_estimation/projects/predictions/M045_2024_11_20_11_15_Camera_Back_Right.slp.predictions.slp\", \"data_path\": \"/mnt/rds/bb2020/projects/beneuro/live/raw/M045/M045_2024_11_20_11_15/Recording_2024-11-20T111527/Camera_6.avi\", \"output_path\": \"/home/il620/beneuro_pose_estimation/projects/predictions/M045_2024_11_20_11_15_Camera_Back_Right.slp.predictions.slp\", \"total_elapsed\": 388.09535932540894, \"start_timestamp\": \"2024-11-28 01:39:30.912382\", \"finish_timestamp\": \"2024-11-28 01:45:59.007728\", \"args\": {\"data_path\": \"/mnt/rds/bb2020/projects/beneuro/live/raw/M045/M045_2024_11_20_11_15/Recording_2024-11-20T111527/Camera_6.avi\", \"models\": [\"/mnt/rds/bb2020/projects/beneuro/live/raw/pose-estimation/models/h1_new_setup/Camera_Back_Right/training_config.json\"], \"frames\": \"\", \"only_labeled_frames\": false, \"only_suggested_frames\": false, \"output\": \"/home/il620/beneuro_pose_estimation/projects/predictions/M045_2024_11_20_11_15_Camera_Back_Right.slp.predictions.slp\", \"no_empty_frames\": false, \"verbosity\": \"rich\", \"video.dataset\": null, \"video.input_format\": \"channels_last\", \"video.index\": \"0\", \"cpu\": false, \"first_gpu\": false, \"last_gpu\": false, \"gpu\": \"auto\", \"max_edge_length_ratio\": 0.25, \"dist_penalty_weight\": 1.0, \"batch_size\": 4, \"open_in_gui\": false, \"peak_threshold\": 0.2, \"max_instances\": null, \"tracking.tracker\": null, \"tracking.max_tracking\": null, \"tracking.max_tracks\": null, \"tracking.target_instance_count\": null, \"tracking.pre_cull_to_target\": null, \"tracking.pre_cull_iou_threshold\": null, \"tracking.post_connect_single_breaks\": null, \"tracking.clean_instance_count\": null, \"tracking.clean_iou_threshold\": null, \"tracking.similarity\": null, \"tracking.match\": null, \"tracking.robust\": null, \"tracking.track_window\": null, \"tracking.min_new_track_points\": null, \"tracking.min_match_points\": null, \"tracking.img_scale\": null, \"tracking.of_window_size\": null, \"tracking.of_max_levels\": null, \"tracking.save_shifted_instances\": null, \"tracking.kf_node_indices\": null, \"tracking.kf_init_frame_count\": null}}\n",
      "Saved as /home/il620/beneuro_pose_estimation/projects/complete_projects/M045_2024_11_20_11_15/M045_2024_11_20_11_15_Camera_Back_Right.analysis.h5\n",
      "INFO:root:Converted /home/il620/beneuro_pose_estimation/projects/predictions/M045_2024_11_20_11_15_Camera_Back_Right.slp.predictions.slp to /home/il620/beneuro_pose_estimation/projects/complete_projects/M045_2024_11_20_11_15/M045_2024_11_20_11_15_Camera_Back_Right.analysis.h5\n"
     ]
    }
   ],
   "source": [
    "session = \"M045_2024_11_20_11_15\"\n",
    "aniposeTools.convert_2Dpred_to_h5(session)\n",
    "# RDS/projects/beneuro/live/raw/M043/M043_2024_10_23_11_15/M043_2024_10_23_11_15_cameras"
   ]
  },
  {
   "cell_type": "code",
   "execution_count": 2,
   "metadata": {},
   "outputs": [
    {
     "name": "stdout",
     "output_type": "stream",
     "text": [
      "WARNING:root:Invalid calibration folder format: ChAruCco_W5_H4_20240215. Skipping.\n",
      "WARNING:root:Invalid calibration folder format: ChAruCco_W5_H4_20240207. Skipping.\n",
      "WARNING:root:Invalid calibration folder format: W5_H4_10mm_20231204. Skipping.\n",
      "WARNING:root:Invalid calibration folder format: W5_H4_10mm_20231102. Skipping.\n",
      "WARNING:root:Invalid calibration folder format: ChAruCco_W5_H4_20240325. Skipping.\n",
      "WARNING:root:Invalid calibration folder format: ChAruCco_W5_H4_20240219. Skipping.\n",
      "WARNING:root:Invalid calibration folder format: W5_H4_20240202. Skipping.\n",
      "WARNING:root:Invalid calibration folder format: ChAruCco_W5_H4_20240209. Skipping.\n",
      "WARNING:root:Invalid calibration folder format: ChAruCo_W5_H4_20240411. Skipping.\n",
      "INFO:root:Using calibration folder: /mnt/rds/bb2020/projects/beneuro/live/raw/pose-estimation/calibration-videos/camera_calibration_2024_09_05_13_10 for session M045_2024_11_20_11_15\n",
      "/home/il620/beneuro_pose_estimation/projects/calibrations/calibration_2024_09_05_13_10.toml\n",
      "/mnt/rds/bb2020/projects/beneuro/live/raw/pose-estimation/calibration-videos/camera_calibration_2024_09_05_13_10/Recording_2024-09-05T131252/Camera_4.avi\n"
     ]
    },
    {
     "name": "stderr",
     "output_type": "stream",
     "text": [
      " 13%|███▍                       | 2322/18001 [00:07<00:50, 310.09it/s]\n"
     ]
    },
    {
     "ename": "KeyboardInterrupt",
     "evalue": "",
     "output_type": "error",
     "traceback": [
      "\u001b[0;31m---------------------------------------------------------------------------\u001b[0m",
      "\u001b[0;31mKeyboardInterrupt\u001b[0m                         Traceback (most recent call last)",
      "\u001b[0;32m/tmp/ipykernel_3455946/3543937136.py\u001b[0m in \u001b[0;36m<module>\u001b[0;34m\u001b[0m\n\u001b[0;32m----> 1\u001b[0;31m \u001b[0mcalib_file_path\u001b[0m \u001b[0;34m=\u001b[0m \u001b[0maniposeTools\u001b[0m\u001b[0;34m.\u001b[0m\u001b[0mget_most_recent_calib\u001b[0m\u001b[0;34m(\u001b[0m\u001b[0;34m\"M045_2024_11_20_11_15\"\u001b[0m\u001b[0;34m)\u001b[0m\u001b[0;34m\u001b[0m\u001b[0;34m\u001b[0m\u001b[0m\n\u001b[0m",
      "\u001b[0;32m~/beneuro_pose_estimation/beneuro_pose_estimation/anipose/aniposeTools.py\u001b[0m in \u001b[0;36mget_most_recent_calib\u001b[0;34m(session)\u001b[0m\n\u001b[1;32m     75\u001b[0m     \u001b[0;31m# Create calibration configuration if it doesn't exist\u001b[0m\u001b[0;34m\u001b[0m\u001b[0;34m\u001b[0m\u001b[0;34m\u001b[0m\u001b[0m\n\u001b[1;32m     76\u001b[0m     \u001b[0;32mif\u001b[0m \u001b[0;32mnot\u001b[0m \u001b[0mcalib_file_path\u001b[0m\u001b[0;34m.\u001b[0m\u001b[0mexists\u001b[0m\u001b[0;34m(\u001b[0m\u001b[0;34m)\u001b[0m\u001b[0;34m:\u001b[0m\u001b[0;34m\u001b[0m\u001b[0;34m\u001b[0m\u001b[0m\n\u001b[0;32m---> 77\u001b[0;31m         \u001b[0mget_calib_file\u001b[0m\u001b[0;34m(\u001b[0m\u001b[0mrecent_calib_folder\u001b[0m\u001b[0;34m,\u001b[0m \u001b[0mcalib_file_path\u001b[0m\u001b[0;34m)\u001b[0m\u001b[0;34m\u001b[0m\u001b[0;34m\u001b[0m\u001b[0m\n\u001b[0m\u001b[1;32m     78\u001b[0m         \u001b[0mlogging\u001b[0m\u001b[0;34m.\u001b[0m\u001b[0minfo\u001b[0m\u001b[0;34m(\u001b[0m\u001b[0;34mf\"Created new calibration file: {calib_file_path}\"\u001b[0m\u001b[0;34m)\u001b[0m\u001b[0;34m\u001b[0m\u001b[0;34m\u001b[0m\u001b[0m\n\u001b[1;32m     79\u001b[0m     \u001b[0;32melse\u001b[0m\u001b[0;34m:\u001b[0m\u001b[0;34m\u001b[0m\u001b[0;34m\u001b[0m\u001b[0m\n",
      "\u001b[0;32m~/beneuro_pose_estimation/beneuro_pose_estimation/anipose/aniposeTools.py\u001b[0m in \u001b[0;36mget_calib_file\u001b[0;34m(calib_videos_dir, calib_save_path, board)\u001b[0m\n\u001b[1;32m    115\u001b[0m     \u001b[0;31m# Initialize and configure CharucoBoard and CameraGroup\u001b[0m\u001b[0;34m\u001b[0m\u001b[0;34m\u001b[0m\u001b[0;34m\u001b[0m\u001b[0m\n\u001b[1;32m    116\u001b[0m     \u001b[0mcgroup\u001b[0m \u001b[0;34m=\u001b[0m \u001b[0mCameraGroup\u001b[0m\u001b[0;34m.\u001b[0m\u001b[0mfrom_names\u001b[0m\u001b[0;34m(\u001b[0m\u001b[0mcam_names\u001b[0m\u001b[0;34m,\u001b[0m \u001b[0mfisheye\u001b[0m\u001b[0;34m=\u001b[0m\u001b[0mparams\u001b[0m\u001b[0;34m.\u001b[0m\u001b[0mfisheye\u001b[0m\u001b[0;34m)\u001b[0m\u001b[0;34m\u001b[0m\u001b[0;34m\u001b[0m\u001b[0m\n\u001b[0;32m--> 117\u001b[0;31m     \u001b[0mcgroup\u001b[0m\u001b[0;34m.\u001b[0m\u001b[0mcalibrate_videos\u001b[0m\u001b[0;34m(\u001b[0m\u001b[0mvidnames\u001b[0m\u001b[0;34m,\u001b[0m \u001b[0mboard\u001b[0m\u001b[0;34m)\u001b[0m\u001b[0;34m\u001b[0m\u001b[0;34m\u001b[0m\u001b[0m\n\u001b[0m\u001b[1;32m    118\u001b[0m     \u001b[0mcgroup\u001b[0m\u001b[0;34m.\u001b[0m\u001b[0mdump\u001b[0m\u001b[0;34m(\u001b[0m\u001b[0mcalib_save_path\u001b[0m\u001b[0;34m)\u001b[0m\u001b[0;34m\u001b[0m\u001b[0;34m\u001b[0m\u001b[0m\n\u001b[1;32m    119\u001b[0m     \u001b[0mlogging\u001b[0m\u001b[0;34m.\u001b[0m\u001b[0minfo\u001b[0m\u001b[0;34m(\u001b[0m\u001b[0;34mf\"Calibration file saved at {calib_save_path}\"\u001b[0m\u001b[0;34m)\u001b[0m\u001b[0;34m\u001b[0m\u001b[0;34m\u001b[0m\u001b[0m\n",
      "\u001b[0;32m~/miniconda3/envs/bnp/lib/python3.7/site-packages/aniposelib/cameras.py\u001b[0m in \u001b[0;36mcalibrate_videos\u001b[0;34m(self, videos, board, init_intrinsics, init_extrinsics, verbose, **kwargs)\u001b[0m\n\u001b[1;32m   1600\u001b[0m         Also takes a board which specifies what should be detected in the videos\"\"\"\n\u001b[1;32m   1601\u001b[0m \u001b[0;34m\u001b[0m\u001b[0m\n\u001b[0;32m-> 1602\u001b[0;31m         \u001b[0mall_rows\u001b[0m \u001b[0;34m=\u001b[0m \u001b[0mself\u001b[0m\u001b[0;34m.\u001b[0m\u001b[0mget_rows_videos\u001b[0m\u001b[0;34m(\u001b[0m\u001b[0mvideos\u001b[0m\u001b[0;34m,\u001b[0m \u001b[0mboard\u001b[0m\u001b[0;34m,\u001b[0m \u001b[0mverbose\u001b[0m\u001b[0;34m=\u001b[0m\u001b[0mverbose\u001b[0m\u001b[0;34m)\u001b[0m\u001b[0;34m\u001b[0m\u001b[0;34m\u001b[0m\u001b[0m\n\u001b[0m\u001b[1;32m   1603\u001b[0m         \u001b[0;32mif\u001b[0m \u001b[0minit_extrinsics\u001b[0m\u001b[0;34m:\u001b[0m\u001b[0;34m\u001b[0m\u001b[0;34m\u001b[0m\u001b[0m\n\u001b[1;32m   1604\u001b[0m             \u001b[0mself\u001b[0m\u001b[0;34m.\u001b[0m\u001b[0mset_camera_sizes_videos\u001b[0m\u001b[0;34m(\u001b[0m\u001b[0mvideos\u001b[0m\u001b[0;34m)\u001b[0m\u001b[0;34m\u001b[0m\u001b[0;34m\u001b[0m\u001b[0m\n",
      "\u001b[0;32m~/miniconda3/envs/bnp/lib/python3.7/site-packages/aniposelib/cameras.py\u001b[0m in \u001b[0;36mget_rows_videos\u001b[0;34m(self, videos, board, verbose)\u001b[0m\n\u001b[1;32m   1579\u001b[0m             \u001b[0;32mfor\u001b[0m \u001b[0mvnum\u001b[0m\u001b[0;34m,\u001b[0m \u001b[0mvidname\u001b[0m \u001b[0;32min\u001b[0m \u001b[0menumerate\u001b[0m\u001b[0;34m(\u001b[0m\u001b[0mcam_videos\u001b[0m\u001b[0;34m)\u001b[0m\u001b[0;34m:\u001b[0m\u001b[0;34m\u001b[0m\u001b[0;34m\u001b[0m\u001b[0m\n\u001b[1;32m   1580\u001b[0m                 \u001b[0;32mif\u001b[0m \u001b[0mverbose\u001b[0m\u001b[0;34m:\u001b[0m \u001b[0mprint\u001b[0m\u001b[0;34m(\u001b[0m\u001b[0mvidname\u001b[0m\u001b[0;34m)\u001b[0m\u001b[0;34m\u001b[0m\u001b[0;34m\u001b[0m\u001b[0m\n\u001b[0;32m-> 1581\u001b[0;31m                 \u001b[0mrows\u001b[0m \u001b[0;34m=\u001b[0m \u001b[0mboard\u001b[0m\u001b[0;34m.\u001b[0m\u001b[0mdetect_video\u001b[0m\u001b[0;34m(\u001b[0m\u001b[0mvidname\u001b[0m\u001b[0;34m,\u001b[0m \u001b[0mprefix\u001b[0m\u001b[0;34m=\u001b[0m\u001b[0mvnum\u001b[0m\u001b[0;34m,\u001b[0m \u001b[0mprogress\u001b[0m\u001b[0;34m=\u001b[0m\u001b[0mverbose\u001b[0m\u001b[0;34m)\u001b[0m\u001b[0;34m\u001b[0m\u001b[0;34m\u001b[0m\u001b[0m\n\u001b[0m\u001b[1;32m   1582\u001b[0m                 \u001b[0;32mif\u001b[0m \u001b[0mverbose\u001b[0m\u001b[0;34m:\u001b[0m \u001b[0mprint\u001b[0m\u001b[0;34m(\u001b[0m\u001b[0;34m\"{} boards detected\"\u001b[0m\u001b[0;34m.\u001b[0m\u001b[0mformat\u001b[0m\u001b[0;34m(\u001b[0m\u001b[0mlen\u001b[0m\u001b[0;34m(\u001b[0m\u001b[0mrows\u001b[0m\u001b[0;34m)\u001b[0m\u001b[0;34m)\u001b[0m\u001b[0;34m)\u001b[0m\u001b[0;34m\u001b[0m\u001b[0;34m\u001b[0m\u001b[0m\n\u001b[1;32m   1583\u001b[0m                 \u001b[0mrows_cam\u001b[0m\u001b[0;34m.\u001b[0m\u001b[0mextend\u001b[0m\u001b[0;34m(\u001b[0m\u001b[0mrows\u001b[0m\u001b[0;34m)\u001b[0m\u001b[0;34m\u001b[0m\u001b[0;34m\u001b[0m\u001b[0m\n",
      "\u001b[0;32m~/miniconda3/envs/bnp/lib/python3.7/site-packages/aniposelib/boards.py\u001b[0m in \u001b[0;36mdetect_video\u001b[0;34m(self, vidname, prefix, skip, progress)\u001b[0m\n\u001b[1;32m    328\u001b[0m                 \u001b[0;32mcontinue\u001b[0m\u001b[0;34m\u001b[0m\u001b[0;34m\u001b[0m\u001b[0m\n\u001b[1;32m    329\u001b[0m \u001b[0;34m\u001b[0m\u001b[0m\n\u001b[0;32m--> 330\u001b[0;31m             \u001b[0mcorners\u001b[0m\u001b[0;34m,\u001b[0m \u001b[0mids\u001b[0m \u001b[0;34m=\u001b[0m \u001b[0mself\u001b[0m\u001b[0;34m.\u001b[0m\u001b[0mdetect_image\u001b[0m\u001b[0;34m(\u001b[0m\u001b[0mframe\u001b[0m\u001b[0;34m)\u001b[0m\u001b[0;34m\u001b[0m\u001b[0;34m\u001b[0m\u001b[0m\n\u001b[0m\u001b[1;32m    331\u001b[0m \u001b[0;34m\u001b[0m\u001b[0m\n\u001b[1;32m    332\u001b[0m             \u001b[0;32mif\u001b[0m \u001b[0mcorners\u001b[0m \u001b[0;32mis\u001b[0m \u001b[0;32mnot\u001b[0m \u001b[0;32mNone\u001b[0m \u001b[0;32mand\u001b[0m \u001b[0mlen\u001b[0m\u001b[0;34m(\u001b[0m\u001b[0mcorners\u001b[0m\u001b[0;34m)\u001b[0m \u001b[0;34m>\u001b[0m \u001b[0;36m0\u001b[0m\u001b[0;34m:\u001b[0m\u001b[0;34m\u001b[0m\u001b[0;34m\u001b[0m\u001b[0m\n",
      "\u001b[0;32m~/miniconda3/envs/bnp/lib/python3.7/site-packages/aniposelib/boards.py\u001b[0m in \u001b[0;36mdetect_image\u001b[0;34m(self, image, camera)\u001b[0m\n\u001b[1;32m    650\u001b[0m             \u001b[0mgray\u001b[0m \u001b[0;34m=\u001b[0m \u001b[0mimage\u001b[0m\u001b[0;34m\u001b[0m\u001b[0;34m\u001b[0m\u001b[0m\n\u001b[1;32m    651\u001b[0m \u001b[0;34m\u001b[0m\u001b[0m\n\u001b[0;32m--> 652\u001b[0;31m         \u001b[0mcorners\u001b[0m\u001b[0;34m,\u001b[0m \u001b[0mids\u001b[0m \u001b[0;34m=\u001b[0m \u001b[0mself\u001b[0m\u001b[0;34m.\u001b[0m\u001b[0mdetect_markers\u001b[0m\u001b[0;34m(\u001b[0m\u001b[0mimage\u001b[0m\u001b[0;34m,\u001b[0m \u001b[0mcamera\u001b[0m\u001b[0;34m,\u001b[0m \u001b[0mrefine\u001b[0m\u001b[0;34m=\u001b[0m\u001b[0;32mTrue\u001b[0m\u001b[0;34m)\u001b[0m\u001b[0;34m\u001b[0m\u001b[0;34m\u001b[0m\u001b[0m\n\u001b[0m\u001b[1;32m    653\u001b[0m         \u001b[0;32mif\u001b[0m \u001b[0mlen\u001b[0m\u001b[0;34m(\u001b[0m\u001b[0mcorners\u001b[0m\u001b[0;34m)\u001b[0m \u001b[0;34m>\u001b[0m \u001b[0;36m0\u001b[0m\u001b[0;34m:\u001b[0m\u001b[0;34m\u001b[0m\u001b[0;34m\u001b[0m\u001b[0m\n\u001b[1;32m    654\u001b[0m             ret, detectedCorners, detectedIds = aruco.interpolateCornersCharuco(\n",
      "\u001b[0;32m~/miniconda3/envs/bnp/lib/python3.7/site-packages/aniposelib/boards.py\u001b[0m in \u001b[0;36mdetect_markers\u001b[0;34m(self, image, camera, refine)\u001b[0m\n\u001b[1;32m    618\u001b[0m         \u001b[0;32mtry\u001b[0m\u001b[0;34m:\u001b[0m\u001b[0;34m\u001b[0m\u001b[0;34m\u001b[0m\u001b[0m\n\u001b[1;32m    619\u001b[0m             corners, ids, rejectedImgPoints = aruco.detectMarkers(\n\u001b[0;32m--> 620\u001b[0;31m                 gray, self.dictionary, parameters=params) \n\u001b[0m\u001b[1;32m    621\u001b[0m         \u001b[0;32mexcept\u001b[0m \u001b[0mException\u001b[0m\u001b[0;34m:\u001b[0m\u001b[0;34m\u001b[0m\u001b[0;34m\u001b[0m\u001b[0m\n\u001b[1;32m    622\u001b[0m             \u001b[0mids\u001b[0m \u001b[0;34m=\u001b[0m \u001b[0;32mNone\u001b[0m\u001b[0;34m\u001b[0m\u001b[0;34m\u001b[0m\u001b[0m\n",
      "\u001b[0;31mKeyboardInterrupt\u001b[0m: "
     ]
    }
   ],
   "source": [
    "calib_file_path = aniposeTools.get_most_recent_calib(\"M045_2024_11_20_11_15\")"
   ]
  },
  {
   "cell_type": "code",
   "execution_count": 6,
   "metadata": {},
   "outputs": [
    {
     "name": "stdout",
     "output_type": "stream",
     "text": [
      "(1, 2, 19, 30013)\n"
     ]
    }
   ],
   "source": [
    "import h5py\n",
    "h5_analysis_file = f\"/home/il620/beneuro_pose_estimation/projects/complete_projects/M045_2024_11_20_11_15/M045_2024_11_20_11_15_Camera_Back_Right.analysis.h5\"\n",
    "with h5py.File(h5_analysis_file, 'r') as f: \n",
    "        print(f['tracks'].shape)"
   ]
  },
  {
   "cell_type": "code",
   "execution_count": null,
   "metadata": {},
   "outputs": [],
   "source": []
  },
  {
   "cell_type": "code",
   "execution_count": 2,
   "metadata": {},
   "outputs": [
    {
     "name": "stdout",
     "output_type": "stream",
     "text": [
      "/mnt/rds/bb2020/projects/beneuro/live/raw/pose-estimation/calibration-videos/camera_calibration_2024_11_20_11_25/Recording_2024-11-20T113135/Camera_4.avi\n"
     ]
    },
    {
     "name": "stderr",
     "output_type": "stream",
     "text": [
      "  4%|█▏                           | 715/18013 [00:08<03:33, 81.00it/s]\n"
     ]
    },
    {
     "ename": "KeyboardInterrupt",
     "evalue": "",
     "output_type": "error",
     "traceback": [
      "\u001b[0;31m---------------------------------------------------------------------------\u001b[0m",
      "\u001b[0;31mKeyboardInterrupt\u001b[0m                         Traceback (most recent call last)",
      "\u001b[0;32m/tmp/ipykernel_3694165/2480616849.py\u001b[0m in \u001b[0;36m<module>\u001b[0;34m\u001b[0m\n\u001b[1;32m      1\u001b[0m \u001b[0mrecent_calib_folder\u001b[0m \u001b[0;34m=\u001b[0m \u001b[0;34m\"/mnt/rds/bb2020/projects/beneuro/live/raw/pose-estimation/calibration-videos/camera_calibration_2024_11_20_11_25/Recording_2024-11-20T113135\"\u001b[0m\u001b[0;34m\u001b[0m\u001b[0;34m\u001b[0m\u001b[0m\n\u001b[1;32m      2\u001b[0m \u001b[0mcalib_file_path\u001b[0m \u001b[0;34m=\u001b[0m \u001b[0;34m\"/home/il620/beneuro_pose_estimation/beneuro_pose_estimation/projects/calibrations/calibration_2024_11_20_11_25.toml\"\u001b[0m\u001b[0;34m\u001b[0m\u001b[0;34m\u001b[0m\u001b[0m\n\u001b[0;32m----> 3\u001b[0;31m \u001b[0maniposeTools\u001b[0m\u001b[0;34m.\u001b[0m\u001b[0mget_calib_file\u001b[0m\u001b[0;34m(\u001b[0m\u001b[0mrecent_calib_folder\u001b[0m\u001b[0;34m,\u001b[0m \u001b[0mcalib_file_path\u001b[0m\u001b[0;34m)\u001b[0m\u001b[0;34m\u001b[0m\u001b[0;34m\u001b[0m\u001b[0m\n\u001b[0m",
      "\u001b[0;32m~/beneuro_pose_estimation/beneuro_pose_estimation/anipose/aniposeTools.py\u001b[0m in \u001b[0;36mget_calib_file\u001b[0;34m(calib_videos_dir, calib_save_path, board)\u001b[0m\n\u001b[1;32m    114\u001b[0m     \u001b[0;31m# Initialize and configure CharucoBoard and CameraGroup\u001b[0m\u001b[0;34m\u001b[0m\u001b[0;34m\u001b[0m\u001b[0;34m\u001b[0m\u001b[0m\n\u001b[1;32m    115\u001b[0m     \u001b[0mcgroup\u001b[0m \u001b[0;34m=\u001b[0m \u001b[0mCameraGroup\u001b[0m\u001b[0;34m.\u001b[0m\u001b[0mfrom_names\u001b[0m\u001b[0;34m(\u001b[0m\u001b[0mcam_names\u001b[0m\u001b[0;34m,\u001b[0m \u001b[0mfisheye\u001b[0m\u001b[0;34m=\u001b[0m\u001b[0mparams\u001b[0m\u001b[0;34m.\u001b[0m\u001b[0mfisheye\u001b[0m\u001b[0;34m)\u001b[0m\u001b[0;34m\u001b[0m\u001b[0;34m\u001b[0m\u001b[0m\n\u001b[0;32m--> 116\u001b[0;31m     \u001b[0mcgroup\u001b[0m\u001b[0;34m.\u001b[0m\u001b[0mcalibrate_videos\u001b[0m\u001b[0;34m(\u001b[0m\u001b[0mvidnames\u001b[0m\u001b[0;34m,\u001b[0m \u001b[0mboard\u001b[0m\u001b[0;34m)\u001b[0m\u001b[0;34m\u001b[0m\u001b[0;34m\u001b[0m\u001b[0m\n\u001b[0m\u001b[1;32m    117\u001b[0m     \u001b[0mcgroup\u001b[0m\u001b[0;34m.\u001b[0m\u001b[0mdump\u001b[0m\u001b[0;34m(\u001b[0m\u001b[0mcalib_save_path\u001b[0m\u001b[0;34m)\u001b[0m\u001b[0;34m\u001b[0m\u001b[0;34m\u001b[0m\u001b[0m\n\u001b[1;32m    118\u001b[0m     \u001b[0mlogging\u001b[0m\u001b[0;34m.\u001b[0m\u001b[0minfo\u001b[0m\u001b[0;34m(\u001b[0m\u001b[0;34mf\"Calibration file saved at {calib_save_path}\"\u001b[0m\u001b[0;34m)\u001b[0m\u001b[0;34m\u001b[0m\u001b[0;34m\u001b[0m\u001b[0m\n",
      "\u001b[0;32m~/miniconda3/envs/bnp/lib/python3.7/site-packages/aniposelib/cameras.py\u001b[0m in \u001b[0;36mcalibrate_videos\u001b[0;34m(self, videos, board, init_intrinsics, init_extrinsics, verbose, **kwargs)\u001b[0m\n\u001b[1;32m   1600\u001b[0m         Also takes a board which specifies what should be detected in the videos\"\"\"\n\u001b[1;32m   1601\u001b[0m \u001b[0;34m\u001b[0m\u001b[0m\n\u001b[0;32m-> 1602\u001b[0;31m         \u001b[0mall_rows\u001b[0m \u001b[0;34m=\u001b[0m \u001b[0mself\u001b[0m\u001b[0;34m.\u001b[0m\u001b[0mget_rows_videos\u001b[0m\u001b[0;34m(\u001b[0m\u001b[0mvideos\u001b[0m\u001b[0;34m,\u001b[0m \u001b[0mboard\u001b[0m\u001b[0;34m,\u001b[0m \u001b[0mverbose\u001b[0m\u001b[0;34m=\u001b[0m\u001b[0mverbose\u001b[0m\u001b[0;34m)\u001b[0m\u001b[0;34m\u001b[0m\u001b[0;34m\u001b[0m\u001b[0m\n\u001b[0m\u001b[1;32m   1603\u001b[0m         \u001b[0;32mif\u001b[0m \u001b[0minit_extrinsics\u001b[0m\u001b[0;34m:\u001b[0m\u001b[0;34m\u001b[0m\u001b[0;34m\u001b[0m\u001b[0m\n\u001b[1;32m   1604\u001b[0m             \u001b[0mself\u001b[0m\u001b[0;34m.\u001b[0m\u001b[0mset_camera_sizes_videos\u001b[0m\u001b[0;34m(\u001b[0m\u001b[0mvideos\u001b[0m\u001b[0;34m)\u001b[0m\u001b[0;34m\u001b[0m\u001b[0;34m\u001b[0m\u001b[0m\n",
      "\u001b[0;32m~/miniconda3/envs/bnp/lib/python3.7/site-packages/aniposelib/cameras.py\u001b[0m in \u001b[0;36mget_rows_videos\u001b[0;34m(self, videos, board, verbose)\u001b[0m\n\u001b[1;32m   1579\u001b[0m             \u001b[0;32mfor\u001b[0m \u001b[0mvnum\u001b[0m\u001b[0;34m,\u001b[0m \u001b[0mvidname\u001b[0m \u001b[0;32min\u001b[0m \u001b[0menumerate\u001b[0m\u001b[0;34m(\u001b[0m\u001b[0mcam_videos\u001b[0m\u001b[0;34m)\u001b[0m\u001b[0;34m:\u001b[0m\u001b[0;34m\u001b[0m\u001b[0;34m\u001b[0m\u001b[0m\n\u001b[1;32m   1580\u001b[0m                 \u001b[0;32mif\u001b[0m \u001b[0mverbose\u001b[0m\u001b[0;34m:\u001b[0m \u001b[0mprint\u001b[0m\u001b[0;34m(\u001b[0m\u001b[0mvidname\u001b[0m\u001b[0;34m)\u001b[0m\u001b[0;34m\u001b[0m\u001b[0;34m\u001b[0m\u001b[0m\n\u001b[0;32m-> 1581\u001b[0;31m                 \u001b[0mrows\u001b[0m \u001b[0;34m=\u001b[0m \u001b[0mboard\u001b[0m\u001b[0;34m.\u001b[0m\u001b[0mdetect_video\u001b[0m\u001b[0;34m(\u001b[0m\u001b[0mvidname\u001b[0m\u001b[0;34m,\u001b[0m \u001b[0mprefix\u001b[0m\u001b[0;34m=\u001b[0m\u001b[0mvnum\u001b[0m\u001b[0;34m,\u001b[0m \u001b[0mprogress\u001b[0m\u001b[0;34m=\u001b[0m\u001b[0mverbose\u001b[0m\u001b[0;34m)\u001b[0m\u001b[0;34m\u001b[0m\u001b[0;34m\u001b[0m\u001b[0m\n\u001b[0m\u001b[1;32m   1582\u001b[0m                 \u001b[0;32mif\u001b[0m \u001b[0mverbose\u001b[0m\u001b[0;34m:\u001b[0m \u001b[0mprint\u001b[0m\u001b[0;34m(\u001b[0m\u001b[0;34m\"{} boards detected\"\u001b[0m\u001b[0;34m.\u001b[0m\u001b[0mformat\u001b[0m\u001b[0;34m(\u001b[0m\u001b[0mlen\u001b[0m\u001b[0;34m(\u001b[0m\u001b[0mrows\u001b[0m\u001b[0;34m)\u001b[0m\u001b[0;34m)\u001b[0m\u001b[0;34m)\u001b[0m\u001b[0;34m\u001b[0m\u001b[0;34m\u001b[0m\u001b[0m\n\u001b[1;32m   1583\u001b[0m                 \u001b[0mrows_cam\u001b[0m\u001b[0;34m.\u001b[0m\u001b[0mextend\u001b[0m\u001b[0;34m(\u001b[0m\u001b[0mrows\u001b[0m\u001b[0;34m)\u001b[0m\u001b[0;34m\u001b[0m\u001b[0;34m\u001b[0m\u001b[0m\n",
      "\u001b[0;32m~/miniconda3/envs/bnp/lib/python3.7/site-packages/aniposelib/boards.py\u001b[0m in \u001b[0;36mdetect_video\u001b[0;34m(self, vidname, prefix, skip, progress)\u001b[0m\n\u001b[1;32m    328\u001b[0m                 \u001b[0;32mcontinue\u001b[0m\u001b[0;34m\u001b[0m\u001b[0;34m\u001b[0m\u001b[0m\n\u001b[1;32m    329\u001b[0m \u001b[0;34m\u001b[0m\u001b[0m\n\u001b[0;32m--> 330\u001b[0;31m             \u001b[0mcorners\u001b[0m\u001b[0;34m,\u001b[0m \u001b[0mids\u001b[0m \u001b[0;34m=\u001b[0m \u001b[0mself\u001b[0m\u001b[0;34m.\u001b[0m\u001b[0mdetect_image\u001b[0m\u001b[0;34m(\u001b[0m\u001b[0mframe\u001b[0m\u001b[0;34m)\u001b[0m\u001b[0;34m\u001b[0m\u001b[0;34m\u001b[0m\u001b[0m\n\u001b[0m\u001b[1;32m    331\u001b[0m \u001b[0;34m\u001b[0m\u001b[0m\n\u001b[1;32m    332\u001b[0m             \u001b[0;32mif\u001b[0m \u001b[0mcorners\u001b[0m \u001b[0;32mis\u001b[0m \u001b[0;32mnot\u001b[0m \u001b[0;32mNone\u001b[0m \u001b[0;32mand\u001b[0m \u001b[0mlen\u001b[0m\u001b[0;34m(\u001b[0m\u001b[0mcorners\u001b[0m\u001b[0;34m)\u001b[0m \u001b[0;34m>\u001b[0m \u001b[0;36m0\u001b[0m\u001b[0;34m:\u001b[0m\u001b[0;34m\u001b[0m\u001b[0;34m\u001b[0m\u001b[0m\n",
      "\u001b[0;32m~/miniconda3/envs/bnp/lib/python3.7/site-packages/aniposelib/boards.py\u001b[0m in \u001b[0;36mdetect_image\u001b[0;34m(self, image, camera)\u001b[0m\n\u001b[1;32m    650\u001b[0m             \u001b[0mgray\u001b[0m \u001b[0;34m=\u001b[0m \u001b[0mimage\u001b[0m\u001b[0;34m\u001b[0m\u001b[0;34m\u001b[0m\u001b[0m\n\u001b[1;32m    651\u001b[0m \u001b[0;34m\u001b[0m\u001b[0m\n\u001b[0;32m--> 652\u001b[0;31m         \u001b[0mcorners\u001b[0m\u001b[0;34m,\u001b[0m \u001b[0mids\u001b[0m \u001b[0;34m=\u001b[0m \u001b[0mself\u001b[0m\u001b[0;34m.\u001b[0m\u001b[0mdetect_markers\u001b[0m\u001b[0;34m(\u001b[0m\u001b[0mimage\u001b[0m\u001b[0;34m,\u001b[0m \u001b[0mcamera\u001b[0m\u001b[0;34m,\u001b[0m \u001b[0mrefine\u001b[0m\u001b[0;34m=\u001b[0m\u001b[0;32mTrue\u001b[0m\u001b[0;34m)\u001b[0m\u001b[0;34m\u001b[0m\u001b[0;34m\u001b[0m\u001b[0m\n\u001b[0m\u001b[1;32m    653\u001b[0m         \u001b[0;32mif\u001b[0m \u001b[0mlen\u001b[0m\u001b[0;34m(\u001b[0m\u001b[0mcorners\u001b[0m\u001b[0;34m)\u001b[0m \u001b[0;34m>\u001b[0m \u001b[0;36m0\u001b[0m\u001b[0;34m:\u001b[0m\u001b[0;34m\u001b[0m\u001b[0;34m\u001b[0m\u001b[0m\n\u001b[1;32m    654\u001b[0m             ret, detectedCorners, detectedIds = aruco.interpolateCornersCharuco(\n",
      "\u001b[0;32m~/miniconda3/envs/bnp/lib/python3.7/site-packages/aniposelib/boards.py\u001b[0m in \u001b[0;36mdetect_markers\u001b[0;34m(self, image, camera, refine)\u001b[0m\n\u001b[1;32m    618\u001b[0m         \u001b[0;32mtry\u001b[0m\u001b[0;34m:\u001b[0m\u001b[0;34m\u001b[0m\u001b[0;34m\u001b[0m\u001b[0m\n\u001b[1;32m    619\u001b[0m             corners, ids, rejectedImgPoints = aruco.detectMarkers(\n\u001b[0;32m--> 620\u001b[0;31m                 gray, self.dictionary, parameters=params) \n\u001b[0m\u001b[1;32m    621\u001b[0m         \u001b[0;32mexcept\u001b[0m \u001b[0mException\u001b[0m\u001b[0;34m:\u001b[0m\u001b[0;34m\u001b[0m\u001b[0;34m\u001b[0m\u001b[0m\n\u001b[1;32m    622\u001b[0m             \u001b[0mids\u001b[0m \u001b[0;34m=\u001b[0m \u001b[0;32mNone\u001b[0m\u001b[0;34m\u001b[0m\u001b[0;34m\u001b[0m\u001b[0m\n",
      "\u001b[0;31mKeyboardInterrupt\u001b[0m: "
     ]
    }
   ],
   "source": [
    "recent_calib_folder = \"/mnt/rds/bb2020/projects/beneuro/live/raw/pose-estimation/calibration-videos/camera_calibration_2024_11_20_11_25/Recording_2024-11-20T113135\"\n",
    "calib_file_path = \"/home/il620/beneuro_pose_estimation/beneuro_pose_estimation/projects/calibrations/calibration_2024_11_20_11_25.toml\"\n",
    "aniposeTools.get_calib_file(recent_calib_folder, calib_file_path)"
   ]
  },
  {
   "cell_type": "code",
   "execution_count": null,
   "metadata": {},
   "outputs": [],
   "source": [
    "calib_file_path = aniposeTools.get_most_recent_calib(session)"
   ]
  },
  {
   "cell_type": "code",
   "execution_count": 4,
   "metadata": {},
   "outputs": [
    {
     "name": "stdout",
     "output_type": "stream",
     "text": [
      "<KeysViewHDF5 ['frames', 'tracks']>\n",
      "(1000, 1, 19, 3)\n"
     ]
    }
   ],
   "source": [
    "import h5py\n",
    "fname = \"/home/il620/beneuro_pose_estimation/projects/complete_projects/M045_2024_11_20_11_15/M045_2024_11_20_11_15_triangulation_1000_2000.h5\"\n",
    "with h5py.File(fname, 'r') as f:\n",
    "    print(f.keys())  # List datasets in the file\n",
    "    print(f[\"tracks\"].shape)\n",
    "    # if 'points3d' in f:\n",
    "    #     print(f['points3d'].shape)  # Check the shape of the dataset\n",
    "    # else:\n",
    "    #     print(\"Dataset 'points3d' is missing.\")"
   ]
  },
  {
   "cell_type": "code",
   "execution_count": null,
   "metadata": {},
   "outputs": [],
   "source": []
  },
  {
   "cell_type": "code",
   "execution_count": 2,
   "metadata": {},
   "outputs": [
    {
     "name": "stdout",
     "output_type": "stream",
     "text": [
      "/home/il620/beneuro_pose_estimation/projects/complete_projects/M045_2024_11_20_11_15\n",
      "0, 1000\n"
     ]
    },
    {
     "name": "stderr",
     "output_type": "stream",
     "text": [
      "100%|█████████████████████████| 19000/19000 [00:03<00:00, 5018.27it/s]\n"
     ]
    },
    {
     "name": "stdout",
     "output_type": "stream",
     "text": [
      "INFO:numba.core.transforms:finding looplift candidates\n",
      "INFO:numba.core.transforms:finding looplift candidates\n",
      "INFO:root:3D prediction file created: /home/il620/beneuro_pose_estimation/projects/complete_projects/M045_2024_11_20_11_15/M045_2024_11_20_11_15_triangulation_0_1000.h5\n",
      "1000, 2000\n"
     ]
    },
    {
     "name": "stderr",
     "output_type": "stream",
     "text": [
      "100%|█████████████████████████| 19000/19000 [00:03<00:00, 5910.69it/s]\n"
     ]
    },
    {
     "name": "stdout",
     "output_type": "stream",
     "text": [
      "INFO:root:3D prediction file created: /home/il620/beneuro_pose_estimation/projects/complete_projects/M045_2024_11_20_11_15/M045_2024_11_20_11_15_triangulation_1000_2000.h5\n",
      "2000, 3000\n"
     ]
    },
    {
     "name": "stderr",
     "output_type": "stream",
     "text": [
      "100%|█████████████████████████| 19000/19000 [00:02<00:00, 7392.81it/s]\n"
     ]
    },
    {
     "name": "stdout",
     "output_type": "stream",
     "text": [
      "INFO:root:3D prediction file created: /home/il620/beneuro_pose_estimation/projects/complete_projects/M045_2024_11_20_11_15/M045_2024_11_20_11_15_triangulation_2000_3000.h5\n",
      "3000, 4000\n"
     ]
    },
    {
     "name": "stderr",
     "output_type": "stream",
     "text": [
      "100%|█████████████████████████| 19000/19000 [00:03<00:00, 5600.60it/s]\n"
     ]
    },
    {
     "name": "stdout",
     "output_type": "stream",
     "text": [
      "INFO:root:3D prediction file created: /home/il620/beneuro_pose_estimation/projects/complete_projects/M045_2024_11_20_11_15/M045_2024_11_20_11_15_triangulation_3000_4000.h5\n",
      "4000, 5000\n"
     ]
    },
    {
     "name": "stderr",
     "output_type": "stream",
     "text": [
      "100%|█████████████████████████| 19000/19000 [00:05<00:00, 3176.35it/s]\n"
     ]
    },
    {
     "name": "stdout",
     "output_type": "stream",
     "text": [
      "INFO:root:3D prediction file created: /home/il620/beneuro_pose_estimation/projects/complete_projects/M045_2024_11_20_11_15/M045_2024_11_20_11_15_triangulation_4000_5000.h5\n",
      "5000, 6000\n"
     ]
    },
    {
     "name": "stderr",
     "output_type": "stream",
     "text": [
      "100%|█████████████████████████| 19000/19000 [00:06<00:00, 2970.04it/s]\n"
     ]
    },
    {
     "name": "stdout",
     "output_type": "stream",
     "text": [
      "INFO:root:3D prediction file created: /home/il620/beneuro_pose_estimation/projects/complete_projects/M045_2024_11_20_11_15/M045_2024_11_20_11_15_triangulation_5000_6000.h5\n",
      "6000, 7000\n"
     ]
    },
    {
     "name": "stderr",
     "output_type": "stream",
     "text": [
      "100%|█████████████████████████| 19000/19000 [00:03<00:00, 6284.26it/s]\n"
     ]
    },
    {
     "name": "stdout",
     "output_type": "stream",
     "text": [
      "INFO:root:3D prediction file created: /home/il620/beneuro_pose_estimation/projects/complete_projects/M045_2024_11_20_11_15/M045_2024_11_20_11_15_triangulation_6000_7000.h5\n",
      "7000, 8000\n"
     ]
    },
    {
     "name": "stderr",
     "output_type": "stream",
     "text": [
      "100%|█████████████████████████| 19000/19000 [00:02<00:00, 8809.36it/s]\n"
     ]
    },
    {
     "name": "stdout",
     "output_type": "stream",
     "text": [
      "INFO:root:3D prediction file created: /home/il620/beneuro_pose_estimation/projects/complete_projects/M045_2024_11_20_11_15/M045_2024_11_20_11_15_triangulation_7000_8000.h5\n",
      "8000, 9000\n"
     ]
    },
    {
     "name": "stderr",
     "output_type": "stream",
     "text": [
      "100%|█████████████████████████| 19000/19000 [00:02<00:00, 6385.94it/s]\n"
     ]
    },
    {
     "name": "stdout",
     "output_type": "stream",
     "text": [
      "INFO:root:3D prediction file created: /home/il620/beneuro_pose_estimation/projects/complete_projects/M045_2024_11_20_11_15/M045_2024_11_20_11_15_triangulation_8000_9000.h5\n",
      "9000, 10000\n"
     ]
    },
    {
     "name": "stderr",
     "output_type": "stream",
     "text": [
      "100%|█████████████████████████| 19000/19000 [00:11<00:00, 1604.24it/s]\n"
     ]
    },
    {
     "name": "stdout",
     "output_type": "stream",
     "text": [
      "INFO:root:3D prediction file created: /home/il620/beneuro_pose_estimation/projects/complete_projects/M045_2024_11_20_11_15/M045_2024_11_20_11_15_triangulation_9000_10000.h5\n",
      "10000, 11000\n"
     ]
    },
    {
     "name": "stderr",
     "output_type": "stream",
     "text": [
      "100%|█████████████████████████| 19000/19000 [00:02<00:00, 6488.91it/s]\n"
     ]
    },
    {
     "name": "stdout",
     "output_type": "stream",
     "text": [
      "INFO:root:3D prediction file created: /home/il620/beneuro_pose_estimation/projects/complete_projects/M045_2024_11_20_11_15/M045_2024_11_20_11_15_triangulation_10000_11000.h5\n",
      "11000, 12000\n"
     ]
    },
    {
     "name": "stderr",
     "output_type": "stream",
     "text": [
      "100%|█████████████████████████| 19000/19000 [00:02<00:00, 7991.46it/s]\n"
     ]
    },
    {
     "name": "stdout",
     "output_type": "stream",
     "text": [
      "INFO:root:3D prediction file created: /home/il620/beneuro_pose_estimation/projects/complete_projects/M045_2024_11_20_11_15/M045_2024_11_20_11_15_triangulation_11000_12000.h5\n",
      "12000, 13000\n"
     ]
    },
    {
     "name": "stderr",
     "output_type": "stream",
     "text": [
      "100%|█████████████████████████| 19000/19000 [00:02<00:00, 8099.09it/s]\n"
     ]
    },
    {
     "name": "stdout",
     "output_type": "stream",
     "text": [
      "INFO:root:3D prediction file created: /home/il620/beneuro_pose_estimation/projects/complete_projects/M045_2024_11_20_11_15/M045_2024_11_20_11_15_triangulation_12000_13000.h5\n",
      "13000, 14000\n"
     ]
    },
    {
     "name": "stderr",
     "output_type": "stream",
     "text": [
      "100%|█████████████████████████| 19000/19000 [00:02<00:00, 8115.26it/s]\n"
     ]
    },
    {
     "name": "stdout",
     "output_type": "stream",
     "text": [
      "INFO:root:3D prediction file created: /home/il620/beneuro_pose_estimation/projects/complete_projects/M045_2024_11_20_11_15/M045_2024_11_20_11_15_triangulation_13000_14000.h5\n",
      "14000, 15000\n"
     ]
    },
    {
     "name": "stderr",
     "output_type": "stream",
     "text": [
      "100%|█████████████████████████| 19000/19000 [00:02<00:00, 7779.54it/s]\n"
     ]
    },
    {
     "name": "stdout",
     "output_type": "stream",
     "text": [
      "INFO:root:3D prediction file created: /home/il620/beneuro_pose_estimation/projects/complete_projects/M045_2024_11_20_11_15/M045_2024_11_20_11_15_triangulation_14000_15000.h5\n",
      "15000, 16000\n"
     ]
    },
    {
     "name": "stderr",
     "output_type": "stream",
     "text": [
      "100%|█████████████████████████| 19000/19000 [00:02<00:00, 7759.30it/s]\n"
     ]
    },
    {
     "name": "stdout",
     "output_type": "stream",
     "text": [
      "INFO:root:3D prediction file created: /home/il620/beneuro_pose_estimation/projects/complete_projects/M045_2024_11_20_11_15/M045_2024_11_20_11_15_triangulation_15000_16000.h5\n",
      "16000, 17000\n"
     ]
    },
    {
     "name": "stderr",
     "output_type": "stream",
     "text": [
      "100%|█████████████████████████| 19000/19000 [00:02<00:00, 8021.12it/s]\n"
     ]
    },
    {
     "name": "stdout",
     "output_type": "stream",
     "text": [
      "INFO:root:3D prediction file created: /home/il620/beneuro_pose_estimation/projects/complete_projects/M045_2024_11_20_11_15/M045_2024_11_20_11_15_triangulation_16000_17000.h5\n",
      "17000, 18000\n"
     ]
    },
    {
     "name": "stderr",
     "output_type": "stream",
     "text": [
      "100%|█████████████████████████| 19000/19000 [00:02<00:00, 8893.93it/s]\n"
     ]
    },
    {
     "name": "stdout",
     "output_type": "stream",
     "text": [
      "INFO:root:3D prediction file created: /home/il620/beneuro_pose_estimation/projects/complete_projects/M045_2024_11_20_11_15/M045_2024_11_20_11_15_triangulation_17000_18000.h5\n",
      "18000, 19000\n"
     ]
    },
    {
     "name": "stderr",
     "output_type": "stream",
     "text": [
      "100%|█████████████████████████| 19000/19000 [00:02<00:00, 7711.55it/s]\n"
     ]
    },
    {
     "name": "stdout",
     "output_type": "stream",
     "text": [
      "INFO:root:3D prediction file created: /home/il620/beneuro_pose_estimation/projects/complete_projects/M045_2024_11_20_11_15/M045_2024_11_20_11_15_triangulation_18000_19000.h5\n",
      "19000, 20000\n"
     ]
    },
    {
     "name": "stderr",
     "output_type": "stream",
     "text": [
      "100%|█████████████████████████| 19000/19000 [00:02<00:00, 8707.05it/s]\n"
     ]
    },
    {
     "name": "stdout",
     "output_type": "stream",
     "text": [
      "INFO:root:3D prediction file created: /home/il620/beneuro_pose_estimation/projects/complete_projects/M045_2024_11_20_11_15/M045_2024_11_20_11_15_triangulation_19000_20000.h5\n",
      "20000, 21000\n"
     ]
    },
    {
     "name": "stderr",
     "output_type": "stream",
     "text": [
      "100%|██████████████████████████| 19000/19000 [02:39<00:00, 118.90it/s]\n"
     ]
    },
    {
     "name": "stdout",
     "output_type": "stream",
     "text": [
      "INFO:root:3D prediction file created: /home/il620/beneuro_pose_estimation/projects/complete_projects/M045_2024_11_20_11_15/M045_2024_11_20_11_15_triangulation_20000_21000.h5\n",
      "21000, 22000\n"
     ]
    },
    {
     "name": "stderr",
     "output_type": "stream",
     "text": [
      "100%|██████████████████████████| 19000/19000 [01:09<00:00, 275.36it/s]\n"
     ]
    },
    {
     "name": "stdout",
     "output_type": "stream",
     "text": [
      "INFO:root:3D prediction file created: /home/il620/beneuro_pose_estimation/projects/complete_projects/M045_2024_11_20_11_15/M045_2024_11_20_11_15_triangulation_21000_22000.h5\n",
      "22000, 23000\n"
     ]
    },
    {
     "name": "stderr",
     "output_type": "stream",
     "text": [
      "100%|███████████████████████████| 19000/19000 [06:54<00:00, 45.82it/s]\n"
     ]
    },
    {
     "name": "stdout",
     "output_type": "stream",
     "text": [
      "INFO:root:3D prediction file created: /home/il620/beneuro_pose_estimation/projects/complete_projects/M045_2024_11_20_11_15/M045_2024_11_20_11_15_triangulation_22000_23000.h5\n",
      "23000, 24000\n"
     ]
    },
    {
     "name": "stderr",
     "output_type": "stream",
     "text": [
      "100%|█████████████████████████| 19000/19000 [00:03<00:00, 5751.37it/s]\n"
     ]
    },
    {
     "name": "stdout",
     "output_type": "stream",
     "text": [
      "INFO:root:3D prediction file created: /home/il620/beneuro_pose_estimation/projects/complete_projects/M045_2024_11_20_11_15/M045_2024_11_20_11_15_triangulation_23000_24000.h5\n",
      "24000, 25000\n"
     ]
    },
    {
     "name": "stderr",
     "output_type": "stream",
     "text": [
      "100%|█████████████████████████| 19000/19000 [00:03<00:00, 5679.28it/s]\n"
     ]
    },
    {
     "name": "stdout",
     "output_type": "stream",
     "text": [
      "INFO:root:3D prediction file created: /home/il620/beneuro_pose_estimation/projects/complete_projects/M045_2024_11_20_11_15/M045_2024_11_20_11_15_triangulation_24000_25000.h5\n",
      "25000, 26000\n"
     ]
    },
    {
     "name": "stderr",
     "output_type": "stream",
     "text": [
      "100%|█████████████████████████| 19000/19000 [00:02<00:00, 8790.07it/s]\n"
     ]
    },
    {
     "name": "stdout",
     "output_type": "stream",
     "text": [
      "INFO:root:3D prediction file created: /home/il620/beneuro_pose_estimation/projects/complete_projects/M045_2024_11_20_11_15/M045_2024_11_20_11_15_triangulation_25000_26000.h5\n",
      "26000, 27000\n"
     ]
    },
    {
     "name": "stderr",
     "output_type": "stream",
     "text": [
      "100%|█████████████████████████| 19000/19000 [00:02<00:00, 8602.34it/s]\n"
     ]
    },
    {
     "name": "stdout",
     "output_type": "stream",
     "text": [
      "INFO:root:3D prediction file created: /home/il620/beneuro_pose_estimation/projects/complete_projects/M045_2024_11_20_11_15/M045_2024_11_20_11_15_triangulation_26000_27000.h5\n",
      "27000, 28000\n"
     ]
    },
    {
     "name": "stderr",
     "output_type": "stream",
     "text": [
      "100%|█████████████████████████| 19000/19000 [00:03<00:00, 6148.64it/s]\n"
     ]
    },
    {
     "name": "stdout",
     "output_type": "stream",
     "text": [
      "INFO:root:3D prediction file created: /home/il620/beneuro_pose_estimation/projects/complete_projects/M045_2024_11_20_11_15/M045_2024_11_20_11_15_triangulation_27000_28000.h5\n",
      "28000, 29000\n"
     ]
    },
    {
     "name": "stderr",
     "output_type": "stream",
     "text": [
      "100%|█████████████████████████| 19000/19000 [00:04<00:00, 3805.30it/s]\n"
     ]
    },
    {
     "name": "stdout",
     "output_type": "stream",
     "text": [
      "INFO:root:3D prediction file created: /home/il620/beneuro_pose_estimation/projects/complete_projects/M045_2024_11_20_11_15/M045_2024_11_20_11_15_triangulation_28000_29000.h5\n",
      "29000, 30000\n"
     ]
    },
    {
     "name": "stderr",
     "output_type": "stream",
     "text": [
      "100%|█████████████████████████| 19000/19000 [00:02<00:00, 8909.35it/s]\n"
     ]
    },
    {
     "name": "stdout",
     "output_type": "stream",
     "text": [
      "INFO:root:3D prediction file created: /home/il620/beneuro_pose_estimation/projects/complete_projects/M045_2024_11_20_11_15/M045_2024_11_20_11_15_triangulation_29000_30000.h5\n",
      "30000, 30013\n"
     ]
    },
    {
     "name": "stderr",
     "output_type": "stream",
     "text": [
      "100%|██████████████████████████████| 247/247 [00:00<00:00, 372.00it/s]\n"
     ]
    },
    {
     "name": "stdout",
     "output_type": "stream",
     "text": [
      "INFO:root:3D prediction file created: /home/il620/beneuro_pose_estimation/projects/complete_projects/M045_2024_11_20_11_15/M045_2024_11_20_11_15_triangulation_30000_30013.h5\n"
     ]
    },
    {
     "ename": "KeyError",
     "evalue": "\"Unable to open object (object 'points3d' doesn't exist)\"",
     "output_type": "error",
     "traceback": [
      "\u001b[0;31m---------------------------------------------------------------------------\u001b[0m",
      "\u001b[0;31mKeyError\u001b[0m                                  Traceback (most recent call last)",
      "\u001b[0;32m/tmp/ipykernel_949356/4206904692.py\u001b[0m in \u001b[0;36m<module>\u001b[0;34m\u001b[0m\n\u001b[1;32m      2\u001b[0m \u001b[0msession\u001b[0m \u001b[0;34m=\u001b[0m \u001b[0;34m\"M045_2024_11_20_11_15\"\u001b[0m\u001b[0;34m\u001b[0m\u001b[0;34m\u001b[0m\u001b[0m\n\u001b[1;32m      3\u001b[0m \u001b[0mproject_dir\u001b[0m \u001b[0;34m=\u001b[0m \u001b[0;34mf\"/home/il620/beneuro_pose_estimation/projects/complete_projects/{session}\"\u001b[0m\u001b[0;34m\u001b[0m\u001b[0;34m\u001b[0m\u001b[0m\n\u001b[0;32m----> 4\u001b[0;31m \u001b[0maniposeTools\u001b[0m\u001b[0;34m.\u001b[0m\u001b[0mcompute_3Dpredictions\u001b[0m\u001b[0;34m(\u001b[0m\u001b[0msession\u001b[0m\u001b[0;34m,\u001b[0m \u001b[0mproject_dir\u001b[0m\u001b[0;34m,\u001b[0m \u001b[0mcalib_file_path\u001b[0m\u001b[0;34m)\u001b[0m\u001b[0;34m\u001b[0m\u001b[0;34m\u001b[0m\u001b[0m\n\u001b[0m",
      "\u001b[0;32m~/beneuro_pose_estimation/beneuro_pose_estimation/anipose/aniposeTools.py\u001b[0m in \u001b[0;36mcompute_3Dpredictions\u001b[0;34m(session, project_dir, calib_file_path, constraints, frame_window)\u001b[0m\n\u001b[1;32m    172\u001b[0m         \u001b[0mlogging\u001b[0m\u001b[0;34m.\u001b[0m\u001b[0minfo\u001b[0m\u001b[0;34m(\u001b[0m\u001b[0;34mf\"3D prediction file created: {output_file}\"\u001b[0m\u001b[0;34m)\u001b[0m\u001b[0;34m\u001b[0m\u001b[0;34m\u001b[0m\u001b[0m\n\u001b[1;32m    173\u001b[0m \u001b[0;34m\u001b[0m\u001b[0m\n\u001b[0;32m--> 174\u001b[0;31m     \u001b[0mcombine_h5_files\u001b[0m\u001b[0;34m(\u001b[0m\u001b[0msession\u001b[0m\u001b[0;34m,\u001b[0m \u001b[0mwindows\u001b[0m\u001b[0;34m,\u001b[0m \u001b[0mproject_dir\u001b[0m\u001b[0;34m)\u001b[0m\u001b[0;34m\u001b[0m\u001b[0;34m\u001b[0m\u001b[0m\n\u001b[0m\u001b[1;32m    175\u001b[0m \u001b[0;34m\u001b[0m\u001b[0m\n\u001b[1;32m    176\u001b[0m \u001b[0;34m\u001b[0m\u001b[0m\n",
      "\u001b[0;32m~/beneuro_pose_estimation/beneuro_pose_estimation/anipose/aniposeTools.py\u001b[0m in \u001b[0;36mcombine_h5_files\u001b[0;34m(session, windows, project_dir)\u001b[0m\n\u001b[1;32m    185\u001b[0m             \u001b[0;32mif\u001b[0m \u001b[0mos\u001b[0m\u001b[0;34m.\u001b[0m\u001b[0mpath\u001b[0m\u001b[0;34m.\u001b[0m\u001b[0mexists\u001b[0m\u001b[0;34m(\u001b[0m\u001b[0mfname\u001b[0m\u001b[0;34m)\u001b[0m\u001b[0;34m:\u001b[0m\u001b[0;34m\u001b[0m\u001b[0;34m\u001b[0m\u001b[0m\n\u001b[1;32m    186\u001b[0m                 \u001b[0;32mwith\u001b[0m \u001b[0mh5py\u001b[0m\u001b[0;34m.\u001b[0m\u001b[0mFile\u001b[0m\u001b[0;34m(\u001b[0m\u001b[0mfname\u001b[0m\u001b[0;34m,\u001b[0m \u001b[0;34m'r'\u001b[0m\u001b[0;34m)\u001b[0m \u001b[0;32mas\u001b[0m \u001b[0mf\u001b[0m\u001b[0;34m:\u001b[0m\u001b[0;34m\u001b[0m\u001b[0;34m\u001b[0m\u001b[0m\n\u001b[0;32m--> 187\u001b[0;31m                     \u001b[0mpoints3d_data\u001b[0m \u001b[0;34m=\u001b[0m \u001b[0mf\u001b[0m\u001b[0;34m[\u001b[0m\u001b[0;34m'points3d'\u001b[0m\u001b[0;34m]\u001b[0m\u001b[0;34m[\u001b[0m\u001b[0;34m:\u001b[0m\u001b[0;34m]\u001b[0m\u001b[0;34m\u001b[0m\u001b[0;34m\u001b[0m\u001b[0m\n\u001b[0m\u001b[1;32m    188\u001b[0m                     \u001b[0;32mif\u001b[0m \u001b[0;34m'points3d'\u001b[0m \u001b[0;32mnot\u001b[0m \u001b[0;32min\u001b[0m \u001b[0mcombined_h5\u001b[0m\u001b[0;34m:\u001b[0m\u001b[0;34m\u001b[0m\u001b[0;34m\u001b[0m\u001b[0m\n\u001b[1;32m    189\u001b[0m                         \u001b[0mcombined_dataset\u001b[0m \u001b[0;34m=\u001b[0m \u001b[0mcombined_h5\u001b[0m\u001b[0;34m.\u001b[0m\u001b[0mcreate_dataset\u001b[0m\u001b[0;34m(\u001b[0m\u001b[0;34m'points3d'\u001b[0m\u001b[0;34m,\u001b[0m \u001b[0mdata\u001b[0m\u001b[0;34m=\u001b[0m\u001b[0mpoints3d_data\u001b[0m\u001b[0;34m,\u001b[0m \u001b[0mmaxshape\u001b[0m\u001b[0;34m=\u001b[0m\u001b[0;34m(\u001b[0m\u001b[0;32mNone\u001b[0m\u001b[0;34m,\u001b[0m\u001b[0;34m)\u001b[0m \u001b[0;34m+\u001b[0m \u001b[0mpoints3d_data\u001b[0m\u001b[0;34m.\u001b[0m\u001b[0mshape\u001b[0m\u001b[0;34m[\u001b[0m\u001b[0;36m1\u001b[0m\u001b[0;34m:\u001b[0m\u001b[0;34m]\u001b[0m\u001b[0;34m)\u001b[0m\u001b[0;34m\u001b[0m\u001b[0;34m\u001b[0m\u001b[0m\n",
      "\u001b[0;32mh5py/_objects.pyx\u001b[0m in \u001b[0;36mh5py._objects.with_phil.wrapper\u001b[0;34m()\u001b[0m\n",
      "\u001b[0;32mh5py/_objects.pyx\u001b[0m in \u001b[0;36mh5py._objects.with_phil.wrapper\u001b[0;34m()\u001b[0m\n",
      "\u001b[0;32m~/miniconda3/envs/bnp/lib/python3.7/site-packages/h5py/_hl/group.py\u001b[0m in \u001b[0;36m__getitem__\u001b[0;34m(self, name)\u001b[0m\n\u001b[1;32m    286\u001b[0m                 \u001b[0;32mraise\u001b[0m \u001b[0mValueError\u001b[0m\u001b[0;34m(\u001b[0m\u001b[0;34m\"Invalid HDF5 object reference\"\u001b[0m\u001b[0;34m)\u001b[0m\u001b[0;34m\u001b[0m\u001b[0;34m\u001b[0m\u001b[0m\n\u001b[1;32m    287\u001b[0m         \u001b[0;32melse\u001b[0m\u001b[0;34m:\u001b[0m\u001b[0;34m\u001b[0m\u001b[0;34m\u001b[0m\u001b[0m\n\u001b[0;32m--> 288\u001b[0;31m             \u001b[0moid\u001b[0m \u001b[0;34m=\u001b[0m \u001b[0mh5o\u001b[0m\u001b[0;34m.\u001b[0m\u001b[0mopen\u001b[0m\u001b[0;34m(\u001b[0m\u001b[0mself\u001b[0m\u001b[0;34m.\u001b[0m\u001b[0mid\u001b[0m\u001b[0;34m,\u001b[0m \u001b[0mself\u001b[0m\u001b[0;34m.\u001b[0m\u001b[0m_e\u001b[0m\u001b[0;34m(\u001b[0m\u001b[0mname\u001b[0m\u001b[0;34m)\u001b[0m\u001b[0;34m,\u001b[0m \u001b[0mlapl\u001b[0m\u001b[0;34m=\u001b[0m\u001b[0mself\u001b[0m\u001b[0;34m.\u001b[0m\u001b[0m_lapl\u001b[0m\u001b[0;34m)\u001b[0m\u001b[0;34m\u001b[0m\u001b[0;34m\u001b[0m\u001b[0m\n\u001b[0m\u001b[1;32m    289\u001b[0m \u001b[0;34m\u001b[0m\u001b[0m\n\u001b[1;32m    290\u001b[0m         \u001b[0motype\u001b[0m \u001b[0;34m=\u001b[0m \u001b[0mh5i\u001b[0m\u001b[0;34m.\u001b[0m\u001b[0mget_type\u001b[0m\u001b[0;34m(\u001b[0m\u001b[0moid\u001b[0m\u001b[0;34m)\u001b[0m\u001b[0;34m\u001b[0m\u001b[0;34m\u001b[0m\u001b[0m\n",
      "\u001b[0;32mh5py/_objects.pyx\u001b[0m in \u001b[0;36mh5py._objects.with_phil.wrapper\u001b[0;34m()\u001b[0m\n",
      "\u001b[0;32mh5py/_objects.pyx\u001b[0m in \u001b[0;36mh5py._objects.with_phil.wrapper\u001b[0;34m()\u001b[0m\n",
      "\u001b[0;32mh5py/h5o.pyx\u001b[0m in \u001b[0;36mh5py.h5o.open\u001b[0;34m()\u001b[0m\n",
      "\u001b[0;31mKeyError\u001b[0m: \"Unable to open object (object 'points3d' doesn't exist)\""
     ]
    }
   ],
   "source": [
    "calib_file_path = \"/home/il620/beneuro_pose_estimation/projects/calibrations/calibration_2024_11_20_11_25.toml\"\n",
    "session = \"M045_2024_11_20_11_15\"\n",
    "project_dir = f\"/home/il620/beneuro_pose_estimation/projects/complete_projects/{session}\"\n",
    "aniposeTools.compute_3Dpredictions(session, project_dir, calib_file_path)"
   ]
  },
  {
   "cell_type": "code",
   "execution_count": 3,
   "metadata": {},
   "outputs": [
    {
     "name": "stdout",
     "output_type": "stream",
     "text": [
      "INFO:root:Combined 3D predictions saved at /home/il620/beneuro_pose_estimation/projects/complete_projects/M045_2024_11_20_11_15/M045_2024_11_20_11_15_pose_estimation_combined.h5\n"
     ]
    }
   ],
   "source": [
    "import numpy as np\n",
    "session = \"M045_2024_11_20_11_15\"\n",
    "project_dir = f\"/home/il620/beneuro_pose_estimation/projects/complete_projects/{session}\"\n",
    "windows = np.arange(0, 30013, 1000)\n",
    "aniposeTools.combine_h5_files(session,windows, project_dir)"
   ]
  },
  {
   "cell_type": "code",
   "execution_count": 5,
   "metadata": {},
   "outputs": [
    {
     "name": "stdout",
     "output_type": "stream",
     "text": [
      "INFO:root:3D predictions saved to CSV at /home/il620/beneuro_pose_estimation/projects/complete_projects/M045_2024_11_20_11_15/M045_2024_11_20_11_15_3d_predictions.csv\n"
     ]
    }
   ],
   "source": [
    "aniposeTools.save_to_csv(session,f\"{project_dir}/{session}_pose_estimation_combined.h5\", f\"{project_dir}/{session}_3d_predictions.csv\")\n",
    "        "
   ]
  },
  {
   "cell_type": "code",
   "execution_count": null,
   "metadata": {},
   "outputs": [],
   "source": [
    "\n",
    "# add angles\n",
    "# see what intermediate files could be deleted \n",
    "\n",
    "\n"
   ]
  }
 ],
 "metadata": {
  "kernelspec": {
   "display_name": "bnp",
   "language": "python",
   "name": "python3"
  },
  "language_info": {
   "codemirror_mode": {
    "name": "ipython",
    "version": 3
   },
   "file_extension": ".py",
   "mimetype": "text/x-python",
   "name": "python",
   "nbconvert_exporter": "python",
   "pygments_lexer": "ipython3",
   "version": "3.7.12"
  }
 },
 "nbformat": 4,
 "nbformat_minor": 2
}
